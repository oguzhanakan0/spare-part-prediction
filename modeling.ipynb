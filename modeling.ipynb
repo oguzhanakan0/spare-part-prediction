{
 "cells": [
  {
   "cell_type": "markdown",
   "metadata": {},
   "source": [
    "# 2. Modeling "
   ]
  },
  {
   "cell_type": "code",
   "execution_count": 1,
   "metadata": {},
   "outputs": [],
   "source": [
    "import pandas as pd\n",
    "import numpy as np\n",
    "import matplotlib.pyplot as plt\n",
    "import seaborn as sns\n",
    "from sklearn.feature_selection import SelectFromModel\n",
    "from sklearn.svm import LinearSVR\n",
    "from sklearn.ensemble import RandomForestClassifier\n",
    "from sklearn.metrics import roc_auc_score\n",
    "from sklearn.metrics import confusion_matrix\n",
    "from sklearn.utils.multiclass import unique_labels\n",
    "from sklearn.metrics import roc_curve\n",
    "from sklearn.feature_extraction.text import CountVectorizer\n",
    "from sklearn.preprocessing import normalize\n",
    "from sklearn.metrics import mean_squared_error, mean_absolute_error\n",
    "import pprint\n",
    "from tqdm.notebook import tqdm\n",
    "from sklearn.neighbors import KNeighborsRegressor\n",
    "from sklearn.ensemble import RandomForestRegressor\n",
    "from sklearn.ensemble import GradientBoostingRegressor\n",
    "import time"
   ]
  },
  {
   "cell_type": "code",
   "execution_count": 2,
   "metadata": {},
   "outputs": [],
   "source": [
    "df = pd.read_pickle('dataset/train_fillna_max.pkl').rename({'order_quantity_bin':'TARGET'},axis=1)\n",
    "# df = df[df.period>='2017-07'].reset_index()\n",
    "train = df"
   ]
  },
  {
   "cell_type": "code",
   "execution_count": 3,
   "metadata": {},
   "outputs": [
    {
     "data": {
      "text/html": [
       "<div>\n",
       "<style scoped>\n",
       "    .dataframe tbody tr th:only-of-type {\n",
       "        vertical-align: middle;\n",
       "    }\n",
       "\n",
       "    .dataframe tbody tr th {\n",
       "        vertical-align: top;\n",
       "    }\n",
       "\n",
       "    .dataframe thead th {\n",
       "        text-align: right;\n",
       "    }\n",
       "</style>\n",
       "<table border=\"1\" class=\"dataframe\">\n",
       "  <thead>\n",
       "    <tr style=\"text-align: right;\">\n",
       "      <th></th>\n",
       "      <th>period</th>\n",
       "      <th>part_id</th>\n",
       "      <th>order_quantity</th>\n",
       "      <th>TARGET</th>\n",
       "      <th>order_quantity_lag1</th>\n",
       "      <th>order_quantity_lag2</th>\n",
       "      <th>order_quantity_lag3</th>\n",
       "      <th>order_quantity_lag4</th>\n",
       "      <th>order_quantity_lag5</th>\n",
       "      <th>order_quantity_lag6</th>\n",
       "      <th>...</th>\n",
       "      <th>pcid_cluster</th>\n",
       "      <th>psid_binenc_1</th>\n",
       "      <th>psid_binenc_2</th>\n",
       "      <th>psid_binenc_3</th>\n",
       "      <th>psid_binenc_4</th>\n",
       "      <th>psid_binenc_5</th>\n",
       "      <th>cpcid</th>\n",
       "      <th>time_diff_mean</th>\n",
       "      <th>time</th>\n",
       "      <th>time_diff_std</th>\n",
       "    </tr>\n",
       "  </thead>\n",
       "  <tbody>\n",
       "    <tr>\n",
       "      <th>0</th>\n",
       "      <td>2017-01</td>\n",
       "      <td>126</td>\n",
       "      <td>6.0</td>\n",
       "      <td>6.0</td>\n",
       "      <td>15.0</td>\n",
       "      <td>15.0</td>\n",
       "      <td>15.0</td>\n",
       "      <td>15.0</td>\n",
       "      <td>15.0</td>\n",
       "      <td>15.0</td>\n",
       "      <td>...</td>\n",
       "      <td>1</td>\n",
       "      <td>1</td>\n",
       "      <td>0</td>\n",
       "      <td>0</td>\n",
       "      <td>0</td>\n",
       "      <td>0</td>\n",
       "      <td>0</td>\n",
       "      <td>1.296296</td>\n",
       "      <td>1.0</td>\n",
       "      <td>0.608581</td>\n",
       "    </tr>\n",
       "    <tr>\n",
       "      <th>1</th>\n",
       "      <td>2017-01</td>\n",
       "      <td>134</td>\n",
       "      <td>21.0</td>\n",
       "      <td>21.0</td>\n",
       "      <td>21.0</td>\n",
       "      <td>21.0</td>\n",
       "      <td>21.0</td>\n",
       "      <td>21.0</td>\n",
       "      <td>21.0</td>\n",
       "      <td>21.0</td>\n",
       "      <td>...</td>\n",
       "      <td>1</td>\n",
       "      <td>1</td>\n",
       "      <td>0</td>\n",
       "      <td>0</td>\n",
       "      <td>0</td>\n",
       "      <td>0</td>\n",
       "      <td>0</td>\n",
       "      <td>1.346154</td>\n",
       "      <td>1.0</td>\n",
       "      <td>0.628796</td>\n",
       "    </tr>\n",
       "    <tr>\n",
       "      <th>2</th>\n",
       "      <td>2017-01</td>\n",
       "      <td>153</td>\n",
       "      <td>15.0</td>\n",
       "      <td>15.0</td>\n",
       "      <td>60.0</td>\n",
       "      <td>60.0</td>\n",
       "      <td>60.0</td>\n",
       "      <td>60.0</td>\n",
       "      <td>33.0</td>\n",
       "      <td>33.0</td>\n",
       "      <td>...</td>\n",
       "      <td>2</td>\n",
       "      <td>1</td>\n",
       "      <td>0</td>\n",
       "      <td>0</td>\n",
       "      <td>0</td>\n",
       "      <td>0</td>\n",
       "      <td>0</td>\n",
       "      <td>2.750000</td>\n",
       "      <td>1.0</td>\n",
       "      <td>2.050499</td>\n",
       "    </tr>\n",
       "    <tr>\n",
       "      <th>3</th>\n",
       "      <td>2017-01</td>\n",
       "      <td>174</td>\n",
       "      <td>15.0</td>\n",
       "      <td>15.0</td>\n",
       "      <td>30.0</td>\n",
       "      <td>30.0</td>\n",
       "      <td>30.0</td>\n",
       "      <td>30.0</td>\n",
       "      <td>30.0</td>\n",
       "      <td>30.0</td>\n",
       "      <td>...</td>\n",
       "      <td>2</td>\n",
       "      <td>1</td>\n",
       "      <td>0</td>\n",
       "      <td>0</td>\n",
       "      <td>0</td>\n",
       "      <td>0</td>\n",
       "      <td>0</td>\n",
       "      <td>2.461538</td>\n",
       "      <td>1.0</td>\n",
       "      <td>2.470337</td>\n",
       "    </tr>\n",
       "    <tr>\n",
       "      <th>4</th>\n",
       "      <td>2017-01</td>\n",
       "      <td>178</td>\n",
       "      <td>42.0</td>\n",
       "      <td>42.0</td>\n",
       "      <td>189.0</td>\n",
       "      <td>189.0</td>\n",
       "      <td>189.0</td>\n",
       "      <td>189.0</td>\n",
       "      <td>189.0</td>\n",
       "      <td>189.0</td>\n",
       "      <td>...</td>\n",
       "      <td>2</td>\n",
       "      <td>1</td>\n",
       "      <td>0</td>\n",
       "      <td>0</td>\n",
       "      <td>0</td>\n",
       "      <td>0</td>\n",
       "      <td>0</td>\n",
       "      <td>1.129032</td>\n",
       "      <td>1.0</td>\n",
       "      <td>0.427546</td>\n",
       "    </tr>\n",
       "  </tbody>\n",
       "</table>\n",
       "<p>5 rows × 28 columns</p>\n",
       "</div>"
      ],
      "text/plain": [
       "    period  part_id  order_quantity  TARGET  order_quantity_lag1  \\\n",
       "0  2017-01      126             6.0     6.0                 15.0   \n",
       "1  2017-01      134            21.0    21.0                 21.0   \n",
       "2  2017-01      153            15.0    15.0                 60.0   \n",
       "3  2017-01      174            15.0    15.0                 30.0   \n",
       "4  2017-01      178            42.0    42.0                189.0   \n",
       "\n",
       "   order_quantity_lag2  order_quantity_lag3  order_quantity_lag4  \\\n",
       "0                 15.0                 15.0                 15.0   \n",
       "1                 21.0                 21.0                 21.0   \n",
       "2                 60.0                 60.0                 60.0   \n",
       "3                 30.0                 30.0                 30.0   \n",
       "4                189.0                189.0                189.0   \n",
       "\n",
       "   order_quantity_lag5  order_quantity_lag6  ...  pcid_cluster  psid_binenc_1  \\\n",
       "0                 15.0                 15.0  ...             1              1   \n",
       "1                 21.0                 21.0  ...             1              1   \n",
       "2                 33.0                 33.0  ...             2              1   \n",
       "3                 30.0                 30.0  ...             2              1   \n",
       "4                189.0                189.0  ...             2              1   \n",
       "\n",
       "   psid_binenc_2  psid_binenc_3  psid_binenc_4  psid_binenc_5  cpcid  \\\n",
       "0              0              0              0              0      0   \n",
       "1              0              0              0              0      0   \n",
       "2              0              0              0              0      0   \n",
       "3              0              0              0              0      0   \n",
       "4              0              0              0              0      0   \n",
       "\n",
       "   time_diff_mean  time  time_diff_std  \n",
       "0        1.296296   1.0       0.608581  \n",
       "1        1.346154   1.0       0.628796  \n",
       "2        2.750000   1.0       2.050499  \n",
       "3        2.461538   1.0       2.470337  \n",
       "4        1.129032   1.0       0.427546  \n",
       "\n",
       "[5 rows x 28 columns]"
      ]
     },
     "execution_count": 3,
     "metadata": {},
     "output_type": "execute_result"
    }
   ],
   "source": [
    "df.head()"
   ]
  },
  {
   "cell_type": "markdown",
   "metadata": {},
   "source": [
    "## 2.1. Separating Training & Test Data"
   ]
  },
  {
   "cell_type": "code",
   "execution_count": 4,
   "metadata": {},
   "outputs": [],
   "source": [
    "feature_names = [e for e in df.columns if e not in ('period','part_id','TARGET','order_quantity')]"
   ]
  },
  {
   "cell_type": "code",
   "execution_count": 5,
   "metadata": {},
   "outputs": [],
   "source": [
    "train_x = df[feature_names]\n",
    "train_y = df['TARGET']"
   ]
  },
  {
   "cell_type": "markdown",
   "metadata": {},
   "source": [
    "## 2.2. Feature Selection"
   ]
  },
  {
   "cell_type": "markdown",
   "metadata": {},
   "source": [
    "### 2.2.1. Selecting Best Features"
   ]
  },
  {
   "cell_type": "code",
   "execution_count": 6,
   "metadata": {},
   "outputs": [],
   "source": [
    "def plot_coefficients(coef, feature_names, top_features=20):\n",
    "    top_positive_coefficients = np.argsort(coef)[-top_features:]\n",
    "    top_negative_coefficients = np.argsort(coef)[:top_features]\n",
    "    top_coefficients = np.hstack([top_negative_coefficients, top_positive_coefficients])\n",
    "    # create plot\n",
    "    plt.figure(figsize=(15, 5))\n",
    "    colors = ['red' if c < 0 else 'blue' for c in coef[top_coefficients]]\n",
    "    # print('2*top_features')\n",
    "    # print(np.arange(2 * top_features))\n",
    "    # print('coef[top_coefficients]')\n",
    "    # print(coef[top_coefficients])\n",
    "    # print('colors')\n",
    "    # print(colors)\n",
    "    plt.bar(np.arange(2 * top_features), coef[top_coefficients], color=colors)\n",
    "    plt.title('Feature Importances according to SVM Coefficients')\n",
    "    feature_names = np.array(feature_names)\n",
    "    plt.xticks(np.arange(0, 2 * top_features), feature_names[top_coefficients], rotation=60, ha='right')\n",
    "    plt.show()\n",
    "    return feature_names[top_positive_coefficients],coef[top_positive_coefficients],feature_names[top_negative_coefficients],coef[top_negative_coefficients]"
   ]
  },
  {
   "cell_type": "code",
   "execution_count": 7,
   "metadata": {},
   "outputs": [],
   "source": [
    "train_x_norm = np.empty(train_x.shape)\n",
    "count = 0\n",
    "for col in feature_names:\n",
    "    x = np.array(train_x[col])\n",
    "    x_norm = x / np.linalg.norm(x)\n",
    "    train_x_norm[:,count] = x_norm\n",
    "    count+=1"
   ]
  },
  {
   "cell_type": "code",
   "execution_count": 8,
   "metadata": {},
   "outputs": [
    {
     "data": {
      "text/plain": [
       "LinearSVR(dual=False, loss='squared_epsilon_insensitive')"
      ]
     },
     "execution_count": 8,
     "metadata": {},
     "output_type": "execute_result"
    }
   ],
   "source": [
    "svm = LinearSVR(\n",
    "          tol=0.0001,\n",
    "          loss='squared_epsilon_insensitive',\n",
    "          fit_intercept=True,\n",
    "          intercept_scaling=1.0,\n",
    "          dual=False,\n",
    "          max_iter=1000)\n",
    "svm.fit(train_x_norm, train_y)"
   ]
  },
  {
   "cell_type": "code",
   "execution_count": 9,
   "metadata": {},
   "outputs": [
    {
     "data": {
      "image/png": "[encoded data removed]",
      "text/plain": [
       "<Figure size 1080x360 with 1 Axes>"
      ]
     },
     "metadata": {
      "needs_background": "light"
     },
     "output_type": "display_data"
    }
   ],
   "source": [
    "coef = svm.coef_\n",
    "top_positive_features = []\n",
    "top_negative_features = []\n",
    "\n",
    "pnames, pcoef, nnames, ncoef = plot_coefficients(coef,feature_names,12)\n",
    "top_positive_features.append((1,pnames,pcoef))\n",
    "top_negative_features.append((1,nnames,ncoef))"
   ]
  },
  {
   "cell_type": "code",
   "execution_count": 10,
   "metadata": {},
   "outputs": [],
   "source": [
    "importances_1 = pd.DataFrame([top_positive_features[0][1],top_positive_features[0][2]]).T\n",
    "importances_1.columns = ['feature','coef_1_positive']\n",
    "importances_positive = importances_1\n",
    "importances_1 = pd.DataFrame([top_negative_features[0][1],top_negative_features[0][2]]).T\n",
    "importances_1.columns = ['feature','coef_1_negative']\n",
    "importances_negative = importances_1\n",
    "importances = importances_positive.merge(importances_negative,how='outer',on='feature')\n",
    "importances.set_index('feature',inplace=True)\n",
    "importances['sum'] = importances.abs().sum(axis=1)\n",
    "importances.sort_values('sum',ascending=False,inplace=True)\n",
    "importances['rank'] = range(1,importances.shape[0]+1)\n",
    "corr_matrix = train_x[importances.index.tolist()].corr().abs()"
   ]
  },
  {
   "cell_type": "markdown",
   "metadata": {},
   "source": [
    "### 2.2.2. Dropping Highly Correlated Features"
   ]
  },
  {
   "cell_type": "code",
   "execution_count": 11,
   "metadata": {
    "scrolled": false
   },
   "outputs": [
    {
     "data": {
      "image/png": "[encoded data removed]",
      "text/plain": [
       "<Figure size 792x648 with 2 Axes>"
      ]
     },
     "metadata": {
      "needs_background": "light"
     },
     "output_type": "display_data"
    }
   ],
   "source": [
    "mask = np.triu(np.ones_like(corr_matrix, dtype=bool))\n",
    "f, ax = plt.subplots(figsize=(11, 9))\n",
    "cmap = sns.diverging_palette(230, 20, as_cmap=True)\n",
    "sns.heatmap(corr_matrix, mask=mask, cmap=cmap, vmax=1, center=0.0,\n",
    "            square=True, linewidths=.6, cbar_kws={\"shrink\": .5});"
   ]
  },
  {
   "cell_type": "code",
   "execution_count": 12,
   "metadata": {},
   "outputs": [
    {
     "data": {
      "text/html": [
       "<div>\n",
       "<style scoped>\n",
       "    .dataframe tbody tr th:only-of-type {\n",
       "        vertical-align: middle;\n",
       "    }\n",
       "\n",
       "    .dataframe tbody tr th {\n",
       "        vertical-align: top;\n",
       "    }\n",
       "\n",
       "    .dataframe thead th {\n",
       "        text-align: right;\n",
       "    }\n",
       "</style>\n",
       "<table border=\"1\" class=\"dataframe\">\n",
       "  <thead>\n",
       "    <tr style=\"text-align: right;\">\n",
       "      <th></th>\n",
       "      <th>coef_1_positive</th>\n",
       "      <th>coef_1_negative</th>\n",
       "      <th>sum</th>\n",
       "      <th>rank</th>\n",
       "    </tr>\n",
       "    <tr>\n",
       "      <th>feature</th>\n",
       "      <th></th>\n",
       "      <th></th>\n",
       "      <th></th>\n",
       "      <th></th>\n",
       "    </tr>\n",
       "  </thead>\n",
       "  <tbody>\n",
       "    <tr>\n",
       "      <th>order_quantity_lag6_mean</th>\n",
       "      <td>568.040763</td>\n",
       "      <td>NaN</td>\n",
       "      <td>568.040763</td>\n",
       "      <td>1</td>\n",
       "    </tr>\n",
       "    <tr>\n",
       "      <th>order_quantity_lag3_mean</th>\n",
       "      <td>424.614037</td>\n",
       "      <td>NaN</td>\n",
       "      <td>424.614037</td>\n",
       "      <td>2</td>\n",
       "    </tr>\n",
       "    <tr>\n",
       "      <th>time_diff_std</th>\n",
       "      <td>NaN</td>\n",
       "      <td>-283.788874</td>\n",
       "      <td>283.788874</td>\n",
       "      <td>3</td>\n",
       "    </tr>\n",
       "    <tr>\n",
       "      <th>time_diff_mean</th>\n",
       "      <td>NaN</td>\n",
       "      <td>-226.788269</td>\n",
       "      <td>226.788269</td>\n",
       "      <td>4</td>\n",
       "    </tr>\n",
       "    <tr>\n",
       "      <th>order_quantity_lag1</th>\n",
       "      <td>201.59948</td>\n",
       "      <td>NaN</td>\n",
       "      <td>201.599480</td>\n",
       "      <td>5</td>\n",
       "    </tr>\n",
       "    <tr>\n",
       "      <th>order_quantity_lag6_std</th>\n",
       "      <td>190.112138</td>\n",
       "      <td>NaN</td>\n",
       "      <td>190.112138</td>\n",
       "      <td>6</td>\n",
       "    </tr>\n",
       "    <tr>\n",
       "      <th>time</th>\n",
       "      <td>NaN</td>\n",
       "      <td>-143.575803</td>\n",
       "      <td>143.575803</td>\n",
       "      <td>7</td>\n",
       "    </tr>\n",
       "    <tr>\n",
       "      <th>pdid_cluster</th>\n",
       "      <td>138.709195</td>\n",
       "      <td>NaN</td>\n",
       "      <td>138.709195</td>\n",
       "      <td>8</td>\n",
       "    </tr>\n",
       "    <tr>\n",
       "      <th>order_quantity_lag3_sum</th>\n",
       "      <td>124.670558</td>\n",
       "      <td>NaN</td>\n",
       "      <td>124.670558</td>\n",
       "      <td>9</td>\n",
       "    </tr>\n",
       "    <tr>\n",
       "      <th>order_quantity_lag6</th>\n",
       "      <td>121.848919</td>\n",
       "      <td>NaN</td>\n",
       "      <td>121.848919</td>\n",
       "      <td>10</td>\n",
       "    </tr>\n",
       "    <tr>\n",
       "      <th>order_quantity_lag6_sum</th>\n",
       "      <td>117.266883</td>\n",
       "      <td>NaN</td>\n",
       "      <td>117.266883</td>\n",
       "      <td>11</td>\n",
       "    </tr>\n",
       "    <tr>\n",
       "      <th>order_quantity_lag2</th>\n",
       "      <td>111.4471</td>\n",
       "      <td>NaN</td>\n",
       "      <td>111.447100</td>\n",
       "      <td>12</td>\n",
       "    </tr>\n",
       "    <tr>\n",
       "      <th>cpcid</th>\n",
       "      <td>NaN</td>\n",
       "      <td>-102.824116</td>\n",
       "      <td>102.824116</td>\n",
       "      <td>13</td>\n",
       "    </tr>\n",
       "    <tr>\n",
       "      <th>pcid_cluster</th>\n",
       "      <td>NaN</td>\n",
       "      <td>-99.223037</td>\n",
       "      <td>99.223037</td>\n",
       "      <td>14</td>\n",
       "    </tr>\n",
       "    <tr>\n",
       "      <th>psid_binenc_4</th>\n",
       "      <td>82.410345</td>\n",
       "      <td>NaN</td>\n",
       "      <td>82.410345</td>\n",
       "      <td>15</td>\n",
       "    </tr>\n",
       "    <tr>\n",
       "      <th>order_quantity_lag4</th>\n",
       "      <td>81.392187</td>\n",
       "      <td>NaN</td>\n",
       "      <td>81.392187</td>\n",
       "      <td>16</td>\n",
       "    </tr>\n",
       "    <tr>\n",
       "      <th>pfid_cluster</th>\n",
       "      <td>76.463847</td>\n",
       "      <td>NaN</td>\n",
       "      <td>76.463847</td>\n",
       "      <td>17</td>\n",
       "    </tr>\n",
       "    <tr>\n",
       "      <th>order_quantity_lag5</th>\n",
       "      <td>NaN</td>\n",
       "      <td>75.380255</td>\n",
       "      <td>75.380255</td>\n",
       "      <td>18</td>\n",
       "    </tr>\n",
       "    <tr>\n",
       "      <th>order_quantity_lag3_std</th>\n",
       "      <td>NaN</td>\n",
       "      <td>66.330006</td>\n",
       "      <td>66.330006</td>\n",
       "      <td>19</td>\n",
       "    </tr>\n",
       "    <tr>\n",
       "      <th>psid_binenc_3</th>\n",
       "      <td>NaN</td>\n",
       "      <td>34.554775</td>\n",
       "      <td>34.554775</td>\n",
       "      <td>20</td>\n",
       "    </tr>\n",
       "    <tr>\n",
       "      <th>psid_binenc_5</th>\n",
       "      <td>NaN</td>\n",
       "      <td>-30.6694</td>\n",
       "      <td>30.669400</td>\n",
       "      <td>21</td>\n",
       "    </tr>\n",
       "    <tr>\n",
       "      <th>order_quantity_lag3</th>\n",
       "      <td>NaN</td>\n",
       "      <td>30.318839</td>\n",
       "      <td>30.318839</td>\n",
       "      <td>22</td>\n",
       "    </tr>\n",
       "    <tr>\n",
       "      <th>psid_binenc_2</th>\n",
       "      <td>NaN</td>\n",
       "      <td>-28.858985</td>\n",
       "      <td>28.858985</td>\n",
       "      <td>23</td>\n",
       "    </tr>\n",
       "    <tr>\n",
       "      <th>psid_binenc_1</th>\n",
       "      <td>NaN</td>\n",
       "      <td>-15.035467</td>\n",
       "      <td>15.035467</td>\n",
       "      <td>24</td>\n",
       "    </tr>\n",
       "  </tbody>\n",
       "</table>\n",
       "</div>"
      ],
      "text/plain": [
       "                         coef_1_positive coef_1_negative         sum  rank\n",
       "feature                                                                   \n",
       "order_quantity_lag6_mean      568.040763             NaN  568.040763     1\n",
       "order_quantity_lag3_mean      424.614037             NaN  424.614037     2\n",
       "time_diff_std                        NaN     -283.788874  283.788874     3\n",
       "time_diff_mean                       NaN     -226.788269  226.788269     4\n",
       "order_quantity_lag1            201.59948             NaN  201.599480     5\n",
       "order_quantity_lag6_std       190.112138             NaN  190.112138     6\n",
       "time                                 NaN     -143.575803  143.575803     7\n",
       "pdid_cluster                  138.709195             NaN  138.709195     8\n",
       "order_quantity_lag3_sum       124.670558             NaN  124.670558     9\n",
       "order_quantity_lag6           121.848919             NaN  121.848919    10\n",
       "order_quantity_lag6_sum       117.266883             NaN  117.266883    11\n",
       "order_quantity_lag2             111.4471             NaN  111.447100    12\n",
       "cpcid                                NaN     -102.824116  102.824116    13\n",
       "pcid_cluster                         NaN      -99.223037   99.223037    14\n",
       "psid_binenc_4                  82.410345             NaN   82.410345    15\n",
       "order_quantity_lag4            81.392187             NaN   81.392187    16\n",
       "pfid_cluster                   76.463847             NaN   76.463847    17\n",
       "order_quantity_lag5                  NaN       75.380255   75.380255    18\n",
       "order_quantity_lag3_std              NaN       66.330006   66.330006    19\n",
       "psid_binenc_3                        NaN       34.554775   34.554775    20\n",
       "psid_binenc_5                        NaN        -30.6694   30.669400    21\n",
       "order_quantity_lag3                  NaN       30.318839   30.318839    22\n",
       "psid_binenc_2                        NaN      -28.858985   28.858985    23\n",
       "psid_binenc_1                        NaN      -15.035467   15.035467    24"
      ]
     },
     "execution_count": 12,
     "metadata": {},
     "output_type": "execute_result"
    }
   ],
   "source": [
    "importances"
   ]
  },
  {
   "cell_type": "code",
   "execution_count": 13,
   "metadata": {},
   "outputs": [
    {
     "name": "stdout",
     "output_type": "stream",
     "text": [
      "current col: time_diff_std current rank: 3\n",
      "starting to compare with: ['time_diff_mean']\n",
      "col2: time_diff_mean col2.rank: 4\n",
      "current col: order_quantity_lag3_sum current rank: 9\n",
      "starting to compare with: ['order_quantity_lag6_sum']\n",
      "col2: order_quantity_lag6_sum col2.rank: 11\n",
      "to_drop: \n",
      "{'order_quantity_lag6_sum', 'time_diff_mean'}\n"
     ]
    }
   ],
   "source": [
    "upper = corr_matrix.where(np.triu(np.ones(corr_matrix.shape), k=1).astype(np.bool))\n",
    "to_drop=[]\n",
    "for col in upper.columns:\n",
    "    tmp = upper.loc[col]>0.90\n",
    "    compare_with = tmp[tmp==True].index.tolist()\n",
    "    current_rank = importances.loc[col]['rank']\n",
    "    if(len(compare_with)==0):\n",
    "        continue\n",
    "    else:\n",
    "        print('current col: '+col+' current rank: '+str(current_rank))\n",
    "        win=0\n",
    "        print('starting to compare with: '+str(compare_with))\n",
    "        for col2 in compare_with:\n",
    "            print('col2: '+ col2+' col2.rank: '+str(importances.loc[col2]['rank']))\n",
    "            if current_rank < importances.loc[col2]['rank']:\n",
    "                to_drop+=[col2]\n",
    "print('to_drop: ')\n",
    "print(set(to_drop))"
   ]
  },
  {
   "cell_type": "code",
   "execution_count": 14,
   "metadata": {},
   "outputs": [],
   "source": [
    "final_features = [e for e in feature_names if e not in set(to_drop)]"
   ]
  },
  {
   "cell_type": "code",
   "execution_count": 15,
   "metadata": {},
   "outputs": [
    {
     "data": {
      "text/plain": [
       "['order_quantity_lag1',\n",
       " 'order_quantity_lag2',\n",
       " 'order_quantity_lag3',\n",
       " 'order_quantity_lag4',\n",
       " 'order_quantity_lag5',\n",
       " 'order_quantity_lag6',\n",
       " 'order_quantity_lag3_mean',\n",
       " 'order_quantity_lag3_std',\n",
       " 'order_quantity_lag3_sum',\n",
       " 'order_quantity_lag6_mean',\n",
       " 'order_quantity_lag6_std',\n",
       " 'pdid_cluster',\n",
       " 'pfid_cluster',\n",
       " 'pcid_cluster',\n",
       " 'psid_binenc_1',\n",
       " 'psid_binenc_2',\n",
       " 'psid_binenc_3',\n",
       " 'psid_binenc_4',\n",
       " 'psid_binenc_5',\n",
       " 'cpcid',\n",
       " 'time',\n",
       " 'time_diff_std']"
      ]
     },
     "execution_count": 15,
     "metadata": {},
     "output_type": "execute_result"
    }
   ],
   "source": [
    "final_features"
   ]
  },
  {
   "cell_type": "markdown",
   "metadata": {},
   "source": [
    "## 2.3. Model Selection "
   ]
  },
  {
   "cell_type": "code",
   "execution_count": 16,
   "metadata": {},
   "outputs": [],
   "source": [
    "ix = {}\n",
    "lag = 5\n",
    "folds = 5\n",
    "for fold in range(1,(1+folds)):\n",
    "    train_till = (-1*lag*fold)\n",
    "    valid_till = None if (-1*lag*(fold-1)) == 0 else (-1*lag*(fold-1))\n",
    "    ix[fold] = {'train':df[df.period.isin(df.period.unique()[:train_till])].index,\n",
    "                'valid':df[df.period.isin(df.period.unique()[train_till:valid_till])].index}"
   ]
  },
  {
   "cell_type": "code",
   "execution_count": 17,
   "metadata": {},
   "outputs": [
    {
     "name": "stdout",
     "output_type": "stream",
     "text": [
      "Fold: 1 \n",
      "Min-max train index: (0, 142058), train.length: 142059\n",
      "Min-max valid index: (142059, 167058), valid.length: 25000\n",
      "Fold: 2 \n",
      "Min-max train index: (0, 117058), train.length: 117059\n",
      "Min-max valid index: (117059, 142058), valid.length: 25000\n",
      "Fold: 3 \n",
      "Min-max train index: (0, 92108), train.length: 92109\n",
      "Min-max valid index: (92109, 117058), valid.length: 24950\n",
      "Fold: 4 \n",
      "Min-max train index: (0, 67665), train.length: 67666\n",
      "Min-max valid index: (67666, 92108), valid.length: 24443\n",
      "Fold: 5 \n",
      "Min-max train index: (0, 44216), train.length: 44217\n",
      "Min-max valid index: (44217, 67665), valid.length: 23449\n"
     ]
    }
   ],
   "source": [
    "for k, v in ix.items():\n",
    "    print(f\"Fold: {k} \")\n",
    "    print(f'Min-max train index: {v[\"train\"].min(), v[\"train\"].max()}, train.length: {len(v[\"train\"])}')\n",
    "    print(f'Min-max valid index: {v[\"valid\"].min(), v[\"valid\"].max()}, valid.length: {len(v[\"valid\"])}')"
   ]
  },
  {
   "cell_type": "code",
   "execution_count": 34,
   "metadata": {},
   "outputs": [],
   "source": [
    "def run_kfold_model(df,model,model_name,final_features,fold_indexes,folds=[1,2,3]):\n",
    "    results = {}\n",
    "    for fold in tqdm(folds):\n",
    "        print('='*5+' '+model_name+' - fold '+str(fold)+' '+'='*5)\n",
    "        train = df.loc[fold_indexes[fold]['train']]\n",
    "        valid = df.loc[fold_indexes[fold]['valid']]\n",
    "\n",
    "        train_x = train[final_features]\n",
    "        valid_x = valid[final_features]\n",
    "\n",
    "        train_y = train['TARGET']\n",
    "        valid_y = valid['TARGET']\n",
    "        print('fitting model...')\n",
    "        start_time = time.time()\n",
    "#         model.fit(train_x, train_y, verbose=0, epochs=100)\n",
    "        model.fit(train_x, train_y)\n",
    "        ex_time = (time.time() - start_time)\n",
    "        print('model fit!')\n",
    "        train_y_pred = model.predict(train_x)\n",
    "        print('predictions are made for train_x! 1')\n",
    "        train_y_pred = np.ravel(train_y_pred)\n",
    "        print('predictions are made for train_x! 2')\n",
    "        valid_y_pred = np.ravel(model.predict(valid_x))\n",
    "        print('predictions are made for valid_x!')\n",
    "        results[fold] = {}\n",
    "        results[fold]['metrics']={\n",
    "            'rmse_train':mean_squared_error(train_y,train_y_pred, squared=False),\n",
    "            'mae_train':mean_absolute_error(train_y,train_y_pred),\n",
    "            'rmse_valid':mean_squared_error(valid_y,valid_y_pred, squared=False),\n",
    "            'mae_valid':mean_absolute_error(valid_y,valid_y_pred)\n",
    "        }\n",
    "        results[fold]['preds'] = {\n",
    "            'train_y_pred': train_y_pred,\n",
    "            'valid_y_pred': valid_y_pred\n",
    "        }\n",
    "        results[fold]['execution_time'] = ex_time\n",
    "        print(f\"execution time: {ex_time}\")\n",
    "        pprint.pprint(results[fold])\n",
    "    return results, model"
   ]
  },
  {
   "cell_type": "markdown",
   "metadata": {},
   "source": [
    "### 2.3.1. K-Nearest Neighbor Regressor (KNN)"
   ]
  },
  {
   "cell_type": "code",
   "execution_count": 35,
   "metadata": {},
   "outputs": [],
   "source": [
    "neighbors_list = [2,3,4,5,6,7,8,9,10,20]\n",
    "neighbors_list = [10]"
   ]
  },
  {
   "cell_type": "code",
   "execution_count": 39,
   "metadata": {},
   "outputs": [
    {
     "data": {
      "application/vnd.jupyter.widget-view+json": {
       "model_id": "e96f5de3ed9a4b9c84c9032964ac0f93",
       "version_major": 2,
       "version_minor": 0
      },
      "text/plain": [
       "  0%|          | 0/5 [00:00<?, ?it/s]"
      ]
     },
     "metadata": {},
     "output_type": "display_data"
    },
    {
     "name": "stdout",
     "output_type": "stream",
     "text": [
      "===== K-Nearest Neighbor - fold 1 =====\n",
      "fitting model...\n",
      "model fit!\n",
      "predictions are made for train_x! 1\n",
      "predictions are made for train_x! 2\n",
      "predictions are made for valid_x!\n",
      "execution time: 0.02594780921936035\n",
      "{'execution_time': 0.02594780921936035,\n",
      " 'metrics': {'mae_train': 3.7795366713830156,\n",
      "             'mae_valid': 3.763992,\n",
      "             'rmse_train': 6.539186850794914,\n",
      "             'rmse_valid': 6.756661246503334},\n",
      " 'preds': {'train_y_pred': array([ 6. , 12. , 18. , ...,  4.2,  0.9,  9. ]),\n",
      "           'valid_y_pred': array([3.6, 3.9, 7.5, ..., 6.6, 2.7, 7.8])}}\n",
      "===== K-Nearest Neighbor - fold 2 =====\n",
      "fitting model...\n",
      "model fit!\n",
      "predictions are made for train_x! 1\n",
      "predictions are made for train_x! 2\n",
      "predictions are made for valid_x!\n",
      "execution time: 0.03426098823547363\n",
      "{'execution_time': 0.03426098823547363,\n",
      " 'metrics': {'mae_train': 3.8660248250882034,\n",
      "             'mae_valid': 3.7626,\n",
      "             'rmse_train': 6.658145077498785,\n",
      "             'rmse_valid': 6.6688098488410965},\n",
      " 'preds': {'train_y_pred': array([ 6. , 12. , 18. , ...,  2.7,  1.5,  6. ]),\n",
      "           'valid_y_pred': array([3.3, 4.2, 6.6, ..., 7.5, 0.9, 7.8])}}\n",
      "===== K-Nearest Neighbor - fold 3 =====\n",
      "fitting model...\n",
      "model fit!\n",
      "predictions are made for train_x! 1\n",
      "predictions are made for train_x! 2\n",
      "predictions are made for valid_x!\n",
      "execution time: 0.014094114303588867\n",
      "{'execution_time': 0.014094114303588867,\n",
      " 'metrics': {'mae_train': 3.992671725889978,\n",
      "             'mae_valid': 3.7674829659318636,\n",
      "             'rmse_train': 6.794925839510426,\n",
      "             'rmse_valid': 6.755057157003838},\n",
      " 'preds': {'train_y_pred': array([ 6. , 12. , 18. , ...,  4.8,  3.3,  5.4]),\n",
      "           'valid_y_pred': array([5.4, 2.1, 2.1, ..., 6.6, 2.4, 8.4])}}\n",
      "===== K-Nearest Neighbor - fold 4 =====\n",
      "fitting model...\n",
      "model fit!\n",
      "predictions are made for train_x! 1\n",
      "predictions are made for train_x! 2\n",
      "predictions are made for valid_x!\n",
      "execution time: 0.014444828033447266\n",
      "{'execution_time': 0.014444828033447266,\n",
      " 'metrics': {'mae_train': 4.117775544586647,\n",
      "             'mae_valid': 4.081438448635601,\n",
      "             'rmse_train': 6.953361060787458,\n",
      "             'rmse_valid': 7.042023292413475},\n",
      " 'preds': {'train_y_pred': array([ 6. , 12. , 18. , ...,  3.9,  1.5,  3.6]),\n",
      "           'valid_y_pred': array([3.6, 3.9, 0.6, ..., 4.5, 3. , 5.7])}}\n",
      "===== K-Nearest Neighbor - fold 5 =====\n",
      "fitting model...\n",
      "model fit!\n",
      "predictions are made for train_x! 1\n",
      "predictions are made for train_x! 2\n",
      "predictions are made for valid_x!\n",
      "execution time: 0.007546901702880859\n",
      "{'execution_time': 0.007546901702880859,\n",
      " 'metrics': {'mae_train': 4.280785670669651,\n",
      "             'mae_valid': 4.405902170668258,\n",
      "             'rmse_train': 7.155906636929969,\n",
      "             'rmse_valid': 7.3105888232626},\n",
      " 'preds': {'train_y_pred': array([ 6. , 12. , 18. , ...,  3.3,  3.3,  3.6]),\n",
      "           'valid_y_pred': array([5.4, 4.5, 2.4, ..., 3.9, 1.5, 2.4])}}\n"
     ]
    }
   ],
   "source": [
    "cumulative_model_results_knn = {}\n",
    "for neighbor in neighbors_list:\n",
    "    knn = KNeighborsRegressor(\n",
    "        n_neighbors=neighbor,\n",
    "        weights='uniform',\n",
    "        algorithm='auto',\n",
    "        leaf_size=30,\n",
    "        p=2,\n",
    "        metric='minkowski')\n",
    "    results, knn = run_kfold_model(df,knn,'K-Nearest Neighbor',final_features,ix,folds=[1,2,3,4,5])\n",
    "    cumulative_model_results_knn[neighbor] = {'results':results,'model':knn}"
   ]
  },
  {
   "cell_type": "markdown",
   "metadata": {},
   "source": [
    "# 2.3.2. Random Forest (RF)"
   ]
  },
  {
   "cell_type": "code",
   "execution_count": 21,
   "metadata": {},
   "outputs": [],
   "source": [
    "estimators_list = [10,20,30,40,50,60,70,80,90,100]\n",
    "estimators_list = [100]"
   ]
  },
  {
   "cell_type": "code",
   "execution_count": 22,
   "metadata": {
    "scrolled": true
   },
   "outputs": [
    {
     "data": {
      "application/vnd.jupyter.widget-view+json": {
       "model_id": "3f81a036f2fd448baddfaa7ab98164ae",
       "version_major": 2,
       "version_minor": 0
      },
      "text/plain": [
       "  0%|          | 0/5 [00:00<?, ?it/s]"
      ]
     },
     "metadata": {},
     "output_type": "display_data"
    },
    {
     "name": "stdout",
     "output_type": "stream",
     "text": [
      "===== Random Forest - fold 1 =====\n",
      "fitting model...\n"
     ]
    },
    {
     "name": "stderr",
     "output_type": "stream",
     "text": [
      "/Users/oguzhanakan/opt/anaconda3/lib/python3.8/site-packages/sklearn/ensemble/_forest.py:396: FutureWarning: Criterion 'mse' was deprecated in v1.0 and will be removed in version 1.2. Use `criterion='squared_error'` which is equivalent.\n",
      "  warn(\n"
     ]
    },
    {
     "name": "stdout",
     "output_type": "stream",
     "text": [
      "model fit!\n",
      "predictions are made for train_x!\n",
      "predictions are made for valid_x!\n",
      "execution time: 35.75456190109253\n",
      "{'execution_time': 35.75456190109253,\n",
      " 'metrics': {'mae_train': 3.986328795882262,\n",
      "             'mae_valid': 3.6211753607146506,\n",
      "             'rmse_train': 6.78984359214881,\n",
      "             'rmse_valid': 6.460953977521895},\n",
      " 'preds': {'train_y_pred': array([ 7.25696722,  7.34723356, 12.71026849, ...,  5.75456362,\n",
      "        1.63303035,  9.66317096]),\n",
      "           'valid_y_pred': array([ 8.06830232,  5.09397672,  4.89104932, ...,  5.412439  ,\n",
      "        1.63303035, 11.66430265])}}\n",
      "===== Random Forest - fold 2 =====\n",
      "fitting model...\n"
     ]
    },
    {
     "name": "stderr",
     "output_type": "stream",
     "text": [
      "/Users/oguzhanakan/opt/anaconda3/lib/python3.8/site-packages/sklearn/ensemble/_forest.py:396: FutureWarning: Criterion 'mse' was deprecated in v1.0 and will be removed in version 1.2. Use `criterion='squared_error'` which is equivalent.\n",
      "  warn(\n"
     ]
    },
    {
     "name": "stdout",
     "output_type": "stream",
     "text": [
      "model fit!\n",
      "predictions are made for train_x!\n",
      "predictions are made for valid_x!\n",
      "execution time: 28.011242151260376\n",
      "{'execution_time': 28.011242151260376,\n",
      " 'metrics': {'mae_train': 4.056887234713946,\n",
      "             'mae_valid': 3.640328365699115,\n",
      "             'rmse_train': 6.8751199626217865,\n",
      "             'rmse_valid': 6.428387944053108},\n",
      " 'preds': {'train_y_pred': array([ 7.1943286 ,  7.60937245, 13.57927305, ...,  6.53717958,\n",
      "        1.52672106,  8.529744  ]),\n",
      "           'valid_y_pred': array([5.44707097, 5.18079898, 6.39502579, ..., 5.80434397, 1.52672106,\n",
      "       9.49020106])}}\n",
      "===== Random Forest - fold 3 =====\n",
      "fitting model...\n"
     ]
    },
    {
     "name": "stderr",
     "output_type": "stream",
     "text": [
      "/Users/oguzhanakan/opt/anaconda3/lib/python3.8/site-packages/sklearn/ensemble/_forest.py:396: FutureWarning: Criterion 'mse' was deprecated in v1.0 and will be removed in version 1.2. Use `criterion='squared_error'` which is equivalent.\n",
      "  warn(\n"
     ]
    },
    {
     "name": "stdout",
     "output_type": "stream",
     "text": [
      "model fit!\n",
      "predictions are made for train_x!\n",
      "predictions are made for valid_x!\n",
      "execution time: 23.922597885131836\n",
      "{'execution_time': 23.922597885131836,\n",
      " 'metrics': {'mae_train': 4.170784586654945,\n",
      "             'mae_valid': 3.7265855997396122,\n",
      "             'rmse_train': 6.9991219058321095,\n",
      "             'rmse_valid': 6.493004742543778},\n",
      " 'preds': {'train_y_pred': array([ 7.22219384,  7.89020866, 14.87636869, ...,  6.49609103,\n",
      "        3.23540543,  4.02011094]),\n",
      "           'valid_y_pred': array([5.28669518, 4.2467114 , 1.80651639, ..., 6.40146172, 1.32780847,\n",
      "       9.83130476])}}\n",
      "===== Random Forest - fold 4 =====\n",
      "fitting model...\n"
     ]
    },
    {
     "name": "stderr",
     "output_type": "stream",
     "text": [
      "/Users/oguzhanakan/opt/anaconda3/lib/python3.8/site-packages/sklearn/ensemble/_forest.py:396: FutureWarning: Criterion 'mse' was deprecated in v1.0 and will be removed in version 1.2. Use `criterion='squared_error'` which is equivalent.\n",
      "  warn(\n"
     ]
    },
    {
     "name": "stdout",
     "output_type": "stream",
     "text": [
      "model fit!\n",
      "predictions are made for train_x!\n",
      "predictions are made for valid_x!\n",
      "execution time: 16.018661975860596\n",
      "{'execution_time': 16.018661975860596,\n",
      " 'metrics': {'mae_train': 4.2874264723016395,\n",
      "             'mae_valid': 3.93024089781507,\n",
      "             'rmse_train': 7.1259501849764915,\n",
      "             'rmse_valid': 6.718385083874995},\n",
      " 'preds': {'train_y_pred': array([ 7.12775835,  8.0796156 , 15.43586481, ...,  3.74664934,\n",
      "        1.45727816,  2.24240795]),\n",
      "           'valid_y_pred': array([5.7974047 , 5.20809196, 1.62962412, ..., 6.52046609, 3.02285291,\n",
      "       4.37726518])}}\n",
      "===== Random Forest - fold 5 =====\n",
      "fitting model...\n"
     ]
    },
    {
     "name": "stderr",
     "output_type": "stream",
     "text": [
      "/Users/oguzhanakan/opt/anaconda3/lib/python3.8/site-packages/sklearn/ensemble/_forest.py:396: FutureWarning: Criterion 'mse' was deprecated in v1.0 and will be removed in version 1.2. Use `criterion='squared_error'` which is equivalent.\n",
      "  warn(\n"
     ]
    },
    {
     "name": "stdout",
     "output_type": "stream",
     "text": [
      "model fit!\n",
      "predictions are made for train_x!\n",
      "predictions are made for valid_x!\n",
      "execution time: 12.108272075653076\n",
      "{'execution_time': 12.108272075653076,\n",
      " 'metrics': {'mae_train': 4.44213671075157,\n",
      "             'mae_valid': 4.194155892572585,\n",
      "             'rmse_train': 7.279322399086052,\n",
      "             'rmse_valid': 6.970221547934676},\n",
      " 'preds': {'train_y_pred': array([ 7.463277  ,  8.74421382, 16.87972457, ...,  4.2471192 ,\n",
      "        4.22833884,  4.1773997 ]),\n",
      "           'valid_y_pred': array([4.86105431, 4.90289968, 2.04593219, ..., 4.23856454, 1.4600999 ,\n",
      "       1.97116254])}}\n"
     ]
    }
   ],
   "source": [
    "cumulative_model_results_rf = {}\n",
    "for estimator in estimators_list:\n",
    "    rf = RandomForestRegressor(\n",
    "        n_estimators=estimator,\n",
    "        criterion='mse',\n",
    "        max_depth=7,\n",
    "        min_samples_split=100,\n",
    "        min_samples_leaf=40,\n",
    "        min_weight_fraction_leaf=0.0,\n",
    "        max_features='auto',\n",
    "        max_leaf_nodes=45,\n",
    "        min_impurity_decrease=0.0,\n",
    "        bootstrap=True,);\n",
    "    results, rf = run_kfold_model(df,rf,'Random Forest',final_features,ix,folds=[1,2,3,4,5])\n",
    "    cumulative_model_results_rf[estimator] = {'results':results,'model':rf}"
   ]
  },
  {
   "cell_type": "markdown",
   "metadata": {},
   "source": [
    "### 2.3.3. Gradient Boosting (GB)"
   ]
  },
  {
   "cell_type": "code",
   "execution_count": 23,
   "metadata": {},
   "outputs": [],
   "source": [
    "estimators_list = [100, 200, 300, 400, 500, 600, 700, 800, 900, 1000]\n",
    "estimators_list = [1000]"
   ]
  },
  {
   "cell_type": "code",
   "execution_count": 24,
   "metadata": {
    "scrolled": true
   },
   "outputs": [
    {
     "data": {
      "application/vnd.jupyter.widget-view+json": {
       "model_id": "7df61924dcaa4506b7a5e3e4ff0dfe4c",
       "version_major": 2,
       "version_minor": 0
      },
      "text/plain": [
       "  0%|          | 0/5 [00:00<?, ?it/s]"
      ]
     },
     "metadata": {},
     "output_type": "display_data"
    },
    {
     "name": "stdout",
     "output_type": "stream",
     "text": [
      "===== Gradient Boosting - fold 1 =====\n",
      "fitting model...\n"
     ]
    },
    {
     "name": "stderr",
     "output_type": "stream",
     "text": [
      "/Users/oguzhanakan/opt/anaconda3/lib/python3.8/site-packages/sklearn/ensemble/_gb.py:286: FutureWarning: The loss 'ls' was deprecated in v1.0 and will be removed in version 1.2. Use 'squared_error' which is equivalent.\n",
      "  warnings.warn(\n"
     ]
    },
    {
     "name": "stdout",
     "output_type": "stream",
     "text": [
      "model fit!\n",
      "predictions are made for train_x!\n",
      "predictions are made for valid_x!\n",
      "execution time: 450.5674831867218\n",
      "{'execution_time': 450.5674831867218,\n",
      " 'metrics': {'mae_train': 3.7504265502006664,\n",
      "             'mae_valid': 3.608276825040775,\n",
      "             'rmse_train': 6.168914534827315,\n",
      "             'rmse_valid': 6.450601228717058},\n",
      " 'preds': {'train_y_pred': array([ 8.19615965,  8.92816807, 16.73224658, ...,  5.98064945,\n",
      "        1.3827261 ,  7.7112792 ]),\n",
      "           'valid_y_pred': array([6.99040675, 4.50585073, 7.3286991 , ..., 5.39399982, 1.42865418,\n",
      "       8.417214  ])}}\n",
      "===== Gradient Boosting - fold 2 =====\n",
      "fitting model...\n"
     ]
    },
    {
     "name": "stderr",
     "output_type": "stream",
     "text": [
      "/Users/oguzhanakan/opt/anaconda3/lib/python3.8/site-packages/sklearn/ensemble/_gb.py:286: FutureWarning: The loss 'ls' was deprecated in v1.0 and will be removed in version 1.2. Use 'squared_error' which is equivalent.\n",
      "  warnings.warn(\n"
     ]
    },
    {
     "name": "stdout",
     "output_type": "stream",
     "text": [
      "model fit!\n",
      "predictions are made for train_x!\n",
      "predictions are made for valid_x!\n",
      "execution time: 264.3388090133667\n",
      "{'execution_time': 264.3388090133667,\n",
      " 'metrics': {'mae_train': 3.8428347305019686,\n",
      "             'mae_valid': 3.5274004581983194,\n",
      "             'rmse_train': 6.329661263521528,\n",
      "             'rmse_valid': 6.366032754290088},\n",
      " 'preds': {'train_y_pred': array([ 7.77890135,  8.78660113, 14.05528169, ...,  5.30051391,\n",
      "        1.14441282,  7.31261805]),\n",
      "           'valid_y_pred': array([4.71257487, 4.22775341, 6.4866619 , ..., 5.66631933, 1.2730811 ,\n",
      "       8.03841751])}}\n",
      "===== Gradient Boosting - fold 3 =====\n",
      "fitting model...\n"
     ]
    },
    {
     "name": "stderr",
     "output_type": "stream",
     "text": [
      "/Users/oguzhanakan/opt/anaconda3/lib/python3.8/site-packages/sklearn/ensemble/_gb.py:286: FutureWarning: The loss 'ls' was deprecated in v1.0 and will be removed in version 1.2. Use 'squared_error' which is equivalent.\n",
      "  warnings.warn(\n"
     ]
    },
    {
     "name": "stdout",
     "output_type": "stream",
     "text": [
      "model fit!\n",
      "predictions are made for train_x!\n",
      "predictions are made for valid_x!\n",
      "execution time: 274.79255199432373\n",
      "{'execution_time': 274.79255199432373,\n",
      " 'metrics': {'mae_train': 3.9088651130169207,\n",
      "             'mae_valid': 3.5555786852853486,\n",
      "             'rmse_train': 6.324630466548899,\n",
      "             'rmse_valid': 6.415433211733748},\n",
      " 'preds': {'train_y_pred': array([ 7.78025331,  9.48695109, 17.12958007, ...,  5.63471485,\n",
      "        2.6657377 ,  4.5647978 ]),\n",
      "           'valid_y_pred': array([4.7299917 , 4.08698556, 2.48592067, ..., 6.3339801 , 0.92147954,\n",
      "       8.49998344])}}\n",
      "===== Gradient Boosting - fold 4 =====\n",
      "fitting model...\n"
     ]
    },
    {
     "name": "stderr",
     "output_type": "stream",
     "text": [
      "/Users/oguzhanakan/opt/anaconda3/lib/python3.8/site-packages/sklearn/ensemble/_gb.py:286: FutureWarning: The loss 'ls' was deprecated in v1.0 and will be removed in version 1.2. Use 'squared_error' which is equivalent.\n",
      "  warnings.warn(\n"
     ]
    },
    {
     "name": "stdout",
     "output_type": "stream",
     "text": [
      "model fit!\n",
      "predictions are made for train_x!\n",
      "predictions are made for valid_x!\n",
      "execution time: 60.499281883239746\n",
      "{'execution_time': 60.499281883239746,\n",
      " 'metrics': {'mae_train': 4.165184470815767,\n",
      "             'mae_valid': 3.88147111986601,\n",
      "             'rmse_train': 6.788323157932796,\n",
      "             'rmse_valid': 6.666611419196223},\n",
      " 'preds': {'train_y_pred': array([ 7.70724626,  8.88608693, 20.44340913, ...,  3.59613069,\n",
      "        1.22858836,  2.03605835]),\n",
      "           'valid_y_pred': array([5.89788608, 5.17834255, 2.33113972, ..., 6.28334221, 3.08159553,\n",
      "       4.85378936])}}\n",
      "===== Gradient Boosting - fold 5 =====\n",
      "fitting model...\n"
     ]
    },
    {
     "name": "stderr",
     "output_type": "stream",
     "text": [
      "/Users/oguzhanakan/opt/anaconda3/lib/python3.8/site-packages/sklearn/ensemble/_gb.py:286: FutureWarning: The loss 'ls' was deprecated in v1.0 and will be removed in version 1.2. Use 'squared_error' which is equivalent.\n",
      "  warnings.warn(\n"
     ]
    },
    {
     "name": "stdout",
     "output_type": "stream",
     "text": [
      "model fit!\n",
      "predictions are made for train_x!\n",
      "predictions are made for valid_x!\n",
      "execution time: 60.63784074783325\n",
      "{'execution_time': 60.63784074783325,\n",
      " 'metrics': {'mae_train': 4.243244483607051,\n",
      "             'mae_valid': 4.138390737619067,\n",
      "             'rmse_train': 6.796529150168485,\n",
      "             'rmse_valid': 6.9192053841688566},\n",
      " 'preds': {'train_y_pred': array([ 7.67835045,  9.11816116, 19.71446697, ...,  3.91070156,\n",
      "        3.63312581,  3.466581  ]),\n",
      "           'valid_y_pred': array([5.26737699, 5.05898052, 3.7284534 , ..., 3.86896013, 1.25982976,\n",
      "       1.99586827])}}\n"
     ]
    }
   ],
   "source": [
    "cumulative_model_results_gb = {}\n",
    "for estimator in estimators_list:\n",
    "    gb = GradientBoostingRegressor(\n",
    "        loss='ls',\n",
    "        learning_rate=0.01,\n",
    "        n_estimators=estimator,\n",
    "        criterion='friedman_mse',\n",
    "        min_samples_split=100,\n",
    "        min_samples_leaf=40,\n",
    "        min_weight_fraction_leaf=0.0,\n",
    "        max_depth=7,\n",
    "        min_impurity_decrease=0.0,\n",
    "        alpha=0.9,\n",
    "        verbose=0,\n",
    "        max_leaf_nodes=45,\n",
    "        n_iter_no_change=50,\n",
    "        tol=0.0001,);\n",
    "    results, gb = run_kfold_model(df,gb,'Gradient Boosting',final_features,ix,folds=[1,2,3,4,5])\n",
    "    cumulative_model_results_gb[estimator] = {'results':results,'model':gb}"
   ]
  },
  {
   "cell_type": "markdown",
   "metadata": {},
   "source": [
    "# 3. Evaluation "
   ]
  },
  {
   "cell_type": "code",
   "execution_count": 25,
   "metadata": {},
   "outputs": [],
   "source": [
    "def get_metrics_from_results(dct):\n",
    "    res = {}\n",
    "    for key in dct.keys():\n",
    "        tmp = dct[key]\n",
    "        dfs = []\n",
    "        for fold in tmp['results'].keys():\n",
    "            dfs.append(pd.DataFrame.from_dict(tmp['results'][fold]['metrics'],orient='index',columns=['fold_'+str(fold)]))\n",
    "        res[key] = pd.concat(dfs,axis=1)\n",
    "    return res"
   ]
  },
  {
   "cell_type": "markdown",
   "metadata": {},
   "source": [
    "## 3.1. Model Results"
   ]
  },
  {
   "cell_type": "code",
   "execution_count": 41,
   "metadata": {
    "scrolled": true
   },
   "outputs": [
    {
     "data": {
      "text/html": [
       "<div>\n",
       "<style scoped>\n",
       "    .dataframe tbody tr th:only-of-type {\n",
       "        vertical-align: middle;\n",
       "    }\n",
       "\n",
       "    .dataframe tbody tr th {\n",
       "        vertical-align: top;\n",
       "    }\n",
       "\n",
       "    .dataframe thead th {\n",
       "        text-align: right;\n",
       "    }\n",
       "</style>\n",
       "<table border=\"1\" class=\"dataframe\">\n",
       "  <thead>\n",
       "    <tr style=\"text-align: right;\">\n",
       "      <th></th>\n",
       "      <th>fold_1</th>\n",
       "      <th>fold_2</th>\n",
       "      <th>fold_3</th>\n",
       "      <th>fold_4</th>\n",
       "      <th>fold_5</th>\n",
       "      <th>avg</th>\n",
       "    </tr>\n",
       "  </thead>\n",
       "  <tbody>\n",
       "    <tr>\n",
       "      <th>rmse_train</th>\n",
       "      <td>6.539187</td>\n",
       "      <td>6.658145</td>\n",
       "      <td>6.794926</td>\n",
       "      <td>6.953361</td>\n",
       "      <td>7.155907</td>\n",
       "      <td>6.820305</td>\n",
       "    </tr>\n",
       "    <tr>\n",
       "      <th>mae_train</th>\n",
       "      <td>3.779537</td>\n",
       "      <td>3.866025</td>\n",
       "      <td>3.992672</td>\n",
       "      <td>4.117776</td>\n",
       "      <td>4.280786</td>\n",
       "      <td>4.007359</td>\n",
       "    </tr>\n",
       "    <tr>\n",
       "      <th>rmse_valid</th>\n",
       "      <td>6.756661</td>\n",
       "      <td>6.668810</td>\n",
       "      <td>6.755057</td>\n",
       "      <td>7.042023</td>\n",
       "      <td>7.310589</td>\n",
       "      <td>6.906628</td>\n",
       "    </tr>\n",
       "    <tr>\n",
       "      <th>mae_valid</th>\n",
       "      <td>3.763992</td>\n",
       "      <td>3.762600</td>\n",
       "      <td>3.767483</td>\n",
       "      <td>4.081438</td>\n",
       "      <td>4.405902</td>\n",
       "      <td>3.956283</td>\n",
       "    </tr>\n",
       "  </tbody>\n",
       "</table>\n",
       "</div>"
      ],
      "text/plain": [
       "              fold_1    fold_2    fold_3    fold_4    fold_5       avg\n",
       "rmse_train  6.539187  6.658145  6.794926  6.953361  7.155907  6.820305\n",
       "mae_train   3.779537  3.866025  3.992672  4.117776  4.280786  4.007359\n",
       "rmse_valid  6.756661  6.668810  6.755057  7.042023  7.310589  6.906628\n",
       "mae_valid   3.763992  3.762600  3.767483  4.081438  4.405902  3.956283"
      ]
     },
     "execution_count": 41,
     "metadata": {},
     "output_type": "execute_result"
    }
   ],
   "source": [
    "knn_results = get_metrics_from_results(cumulative_model_results_knn)[10]\n",
    "knn_results['avg'] = knn_results.mean(axis=1)\n",
    "knn_results"
   ]
  },
  {
   "cell_type": "code",
   "execution_count": 42,
   "metadata": {},
   "outputs": [],
   "source": [
    "knn_results.to_excel(\"knn-results.xlsx\")"
   ]
  },
  {
   "cell_type": "code",
   "execution_count": 27,
   "metadata": {},
   "outputs": [
    {
     "data": {
      "text/html": [
       "<div>\n",
       "<style scoped>\n",
       "    .dataframe tbody tr th:only-of-type {\n",
       "        vertical-align: middle;\n",
       "    }\n",
       "\n",
       "    .dataframe tbody tr th {\n",
       "        vertical-align: top;\n",
       "    }\n",
       "\n",
       "    .dataframe thead th {\n",
       "        text-align: right;\n",
       "    }\n",
       "</style>\n",
       "<table border=\"1\" class=\"dataframe\">\n",
       "  <thead>\n",
       "    <tr style=\"text-align: right;\">\n",
       "      <th></th>\n",
       "      <th>fold_1</th>\n",
       "      <th>fold_2</th>\n",
       "      <th>fold_3</th>\n",
       "      <th>fold_4</th>\n",
       "      <th>fold_5</th>\n",
       "      <th>avg</th>\n",
       "    </tr>\n",
       "  </thead>\n",
       "  <tbody>\n",
       "    <tr>\n",
       "      <th>rmse_train</th>\n",
       "      <td>6.789844</td>\n",
       "      <td>6.875120</td>\n",
       "      <td>6.999122</td>\n",
       "      <td>7.125950</td>\n",
       "      <td>7.279322</td>\n",
       "      <td>7.013872</td>\n",
       "    </tr>\n",
       "    <tr>\n",
       "      <th>mae_train</th>\n",
       "      <td>3.986329</td>\n",
       "      <td>4.056887</td>\n",
       "      <td>4.170785</td>\n",
       "      <td>4.287426</td>\n",
       "      <td>4.442137</td>\n",
       "      <td>4.188713</td>\n",
       "    </tr>\n",
       "    <tr>\n",
       "      <th>rmse_valid</th>\n",
       "      <td>6.460954</td>\n",
       "      <td>6.428388</td>\n",
       "      <td>6.493005</td>\n",
       "      <td>6.718385</td>\n",
       "      <td>6.970222</td>\n",
       "      <td>6.614191</td>\n",
       "    </tr>\n",
       "    <tr>\n",
       "      <th>mae_valid</th>\n",
       "      <td>3.621175</td>\n",
       "      <td>3.640328</td>\n",
       "      <td>3.726586</td>\n",
       "      <td>3.930241</td>\n",
       "      <td>4.194156</td>\n",
       "      <td>3.822497</td>\n",
       "    </tr>\n",
       "  </tbody>\n",
       "</table>\n",
       "</div>"
      ],
      "text/plain": [
       "              fold_1    fold_2    fold_3    fold_4    fold_5       avg\n",
       "rmse_train  6.789844  6.875120  6.999122  7.125950  7.279322  7.013872\n",
       "mae_train   3.986329  4.056887  4.170785  4.287426  4.442137  4.188713\n",
       "rmse_valid  6.460954  6.428388  6.493005  6.718385  6.970222  6.614191\n",
       "mae_valid   3.621175  3.640328  3.726586  3.930241  4.194156  3.822497"
      ]
     },
     "execution_count": 27,
     "metadata": {},
     "output_type": "execute_result"
    }
   ],
   "source": [
    "rf_results = get_metrics_from_results(cumulative_model_results_rf)[100]\n",
    "rf_results['avg'] = rf_results.mean(axis=1)\n",
    "rf_results"
   ]
  },
  {
   "cell_type": "code",
   "execution_count": 37,
   "metadata": {},
   "outputs": [],
   "source": [
    "rf_results.to_excel(\"rf-results.xlsx\")"
   ]
  },
  {
   "cell_type": "code",
   "execution_count": 28,
   "metadata": {},
   "outputs": [
    {
     "data": {
      "text/html": [
       "<div>\n",
       "<style scoped>\n",
       "    .dataframe tbody tr th:only-of-type {\n",
       "        vertical-align: middle;\n",
       "    }\n",
       "\n",
       "    .dataframe tbody tr th {\n",
       "        vertical-align: top;\n",
       "    }\n",
       "\n",
       "    .dataframe thead th {\n",
       "        text-align: right;\n",
       "    }\n",
       "</style>\n",
       "<table border=\"1\" class=\"dataframe\">\n",
       "  <thead>\n",
       "    <tr style=\"text-align: right;\">\n",
       "      <th></th>\n",
       "      <th>fold_1</th>\n",
       "      <th>fold_2</th>\n",
       "      <th>fold_3</th>\n",
       "      <th>fold_4</th>\n",
       "      <th>fold_5</th>\n",
       "      <th>avg</th>\n",
       "    </tr>\n",
       "  </thead>\n",
       "  <tbody>\n",
       "    <tr>\n",
       "      <th>rmse_train</th>\n",
       "      <td>6.168915</td>\n",
       "      <td>6.329661</td>\n",
       "      <td>6.324630</td>\n",
       "      <td>6.788323</td>\n",
       "      <td>6.796529</td>\n",
       "      <td>6.481612</td>\n",
       "    </tr>\n",
       "    <tr>\n",
       "      <th>mae_train</th>\n",
       "      <td>3.750427</td>\n",
       "      <td>3.842835</td>\n",
       "      <td>3.908865</td>\n",
       "      <td>4.165184</td>\n",
       "      <td>4.243244</td>\n",
       "      <td>3.982111</td>\n",
       "    </tr>\n",
       "    <tr>\n",
       "      <th>rmse_valid</th>\n",
       "      <td>6.450601</td>\n",
       "      <td>6.366033</td>\n",
       "      <td>6.415433</td>\n",
       "      <td>6.666611</td>\n",
       "      <td>6.919205</td>\n",
       "      <td>6.563577</td>\n",
       "    </tr>\n",
       "    <tr>\n",
       "      <th>mae_valid</th>\n",
       "      <td>3.608277</td>\n",
       "      <td>3.527400</td>\n",
       "      <td>3.555579</td>\n",
       "      <td>3.881471</td>\n",
       "      <td>4.138391</td>\n",
       "      <td>3.742224</td>\n",
       "    </tr>\n",
       "  </tbody>\n",
       "</table>\n",
       "</div>"
      ],
      "text/plain": [
       "              fold_1    fold_2    fold_3    fold_4    fold_5       avg\n",
       "rmse_train  6.168915  6.329661  6.324630  6.788323  6.796529  6.481612\n",
       "mae_train   3.750427  3.842835  3.908865  4.165184  4.243244  3.982111\n",
       "rmse_valid  6.450601  6.366033  6.415433  6.666611  6.919205  6.563577\n",
       "mae_valid   3.608277  3.527400  3.555579  3.881471  4.138391  3.742224"
      ]
     },
     "execution_count": 28,
     "metadata": {},
     "output_type": "execute_result"
    }
   ],
   "source": [
    "gb_results = get_metrics_from_results(cumulative_model_results_gb)[1000]\n",
    "gb_results['avg'] = gb_results.mean(axis=1)\n",
    "gb_results"
   ]
  },
  {
   "cell_type": "code",
   "execution_count": 38,
   "metadata": {},
   "outputs": [],
   "source": [
    "gb_results.to_excel(\"gb-results.xlsx\")"
   ]
  },
  {
   "cell_type": "markdown",
   "metadata": {},
   "source": [
    "## 3.2. Error Rate with Parameter Changes"
   ]
  },
  {
   "cell_type": "markdown",
   "metadata": {},
   "source": [
    "### 3.2.1. KNN"
   ]
  },
  {
   "cell_type": "code",
   "execution_count": null,
   "metadata": {},
   "outputs": [],
   "source": [
    "neighbors_list = [2,3,4,5,6,7,8,9,10,20]\n",
    "x, y1, y2=[], [], []\n",
    "for neighbor in neighbors_list:\n",
    "    knn_results = get_metrics_from_results(cumulative_model_results_knn)[neighbor]\n",
    "    knn_results['avg'] = knn_results.mean(axis=1)\n",
    "    x.append(neighbor)\n",
    "    y1.append(knn_results.loc['rmse_train'].avg)\n",
    "    y2.append(knn_results.loc['rmse_valid'].avg)\n",
    "    \n",
    "re = pd.DataFrame([x,y1,y2]).T\n",
    "re.columns=['neighbors','rmse_train','rmse_valid']\n",
    "re = re.melt(id_vars=['neighbors'])\n",
    "\n",
    "fig = sns.lineplot(data=re,x='neighbors',y='value',hue='variable')\n",
    "fig.set_xticks(neighbors_list);\n",
    "fig.set_xticklabels(neighbors_list);\n",
    "fig.set_title('Change in RMSE in increasing Neighbors (KNN)');"
   ]
  },
  {
   "cell_type": "markdown",
   "metadata": {},
   "source": [
    "### 3.2.2. RF"
   ]
  },
  {
   "cell_type": "code",
   "execution_count": null,
   "metadata": {},
   "outputs": [],
   "source": [
    "estimators_list = [10,20,30,40,50,60,70,80,90,100]\n",
    "x, y1, y2=[], [], []\n",
    "for estimator in estimators_list:\n",
    "    rf_results = get_metrics_from_results(cumulative_model_results_rf)[estimator]\n",
    "    rf_results['avg'] = rf_results.mean(axis=1)\n",
    "    x.append(estimator)\n",
    "    y1.append(rf_results.loc['rmse_train'].avg)\n",
    "    y2.append(rf_results.loc['rmse_valid'].avg)\n",
    "    \n",
    "re = pd.DataFrame([x,y1,y2]).T\n",
    "re.columns=['estimators','rmse_train','rmse_valid']\n",
    "re = re.melt(id_vars=['estimators'])\n",
    "\n",
    "fig = sns.lineplot(data=re,x='estimators',y='value',hue='variable')\n",
    "fig.set_xticks(estimators_list);\n",
    "fig.set_xticklabels(estimators_list);\n",
    "fig.set_title('Change in RMSE in increasing Estimators (RF)');"
   ]
  },
  {
   "cell_type": "markdown",
   "metadata": {},
   "source": [
    "### 3.2.3. GB"
   ]
  },
  {
   "cell_type": "code",
   "execution_count": 25,
   "metadata": {
    "collapsed": true
   },
   "outputs": [
    {
     "ename": "KeyError",
     "evalue": "100",
     "output_type": "error",
     "traceback": [
      "\u001b[0;31m---------------------------------------------------------------------------\u001b[0m",
      "\u001b[0;31mKeyError\u001b[0m                                  Traceback (most recent call last)",
      "\u001b[0;32m/var/folders/tz/0rflsy9n69g5zgfg581qlnt40000gn/T/ipykernel_1411/1863136482.py\u001b[0m in \u001b[0;36m<module>\u001b[0;34m\u001b[0m\n\u001b[1;32m      2\u001b[0m \u001b[0mx\u001b[0m\u001b[0;34m,\u001b[0m \u001b[0my1\u001b[0m\u001b[0;34m,\u001b[0m \u001b[0my2\u001b[0m\u001b[0;34m=\u001b[0m\u001b[0;34m[\u001b[0m\u001b[0;34m]\u001b[0m\u001b[0;34m,\u001b[0m \u001b[0;34m[\u001b[0m\u001b[0;34m]\u001b[0m\u001b[0;34m,\u001b[0m \u001b[0;34m[\u001b[0m\u001b[0;34m]\u001b[0m\u001b[0;34m\u001b[0m\u001b[0;34m\u001b[0m\u001b[0m\n\u001b[1;32m      3\u001b[0m \u001b[0;32mfor\u001b[0m \u001b[0mestimator\u001b[0m \u001b[0;32min\u001b[0m \u001b[0mestimators_list\u001b[0m\u001b[0;34m:\u001b[0m\u001b[0;34m\u001b[0m\u001b[0;34m\u001b[0m\u001b[0m\n\u001b[0;32m----> 4\u001b[0;31m     \u001b[0mgb_results\u001b[0m \u001b[0;34m=\u001b[0m \u001b[0mget_metrics_from_results\u001b[0m\u001b[0;34m(\u001b[0m\u001b[0mcumulative_model_results_gb\u001b[0m\u001b[0;34m)\u001b[0m\u001b[0;34m[\u001b[0m\u001b[0mestimator\u001b[0m\u001b[0;34m]\u001b[0m\u001b[0;34m\u001b[0m\u001b[0;34m\u001b[0m\u001b[0m\n\u001b[0m\u001b[1;32m      5\u001b[0m     \u001b[0mgb_results\u001b[0m\u001b[0;34m[\u001b[0m\u001b[0;34m'avg'\u001b[0m\u001b[0;34m]\u001b[0m \u001b[0;34m=\u001b[0m \u001b[0mgb_results\u001b[0m\u001b[0;34m.\u001b[0m\u001b[0mmean\u001b[0m\u001b[0;34m(\u001b[0m\u001b[0maxis\u001b[0m\u001b[0;34m=\u001b[0m\u001b[0;36m1\u001b[0m\u001b[0;34m)\u001b[0m\u001b[0;34m\u001b[0m\u001b[0;34m\u001b[0m\u001b[0m\n\u001b[1;32m      6\u001b[0m     \u001b[0mx\u001b[0m\u001b[0;34m.\u001b[0m\u001b[0mappend\u001b[0m\u001b[0;34m(\u001b[0m\u001b[0mestimator\u001b[0m\u001b[0;34m)\u001b[0m\u001b[0;34m\u001b[0m\u001b[0;34m\u001b[0m\u001b[0m\n",
      "\u001b[0;31mKeyError\u001b[0m: 100"
     ]
    }
   ],
   "source": [
    "estimators_list = [100, 200, 300, 400, 500, 600, 700, 800, 900, 1000]\n",
    "x, y1, y2=[], [], []\n",
    "for estimator in estimators_list:\n",
    "    gb_results = get_metrics_from_results(cumulative_model_results_gb)[estimator]\n",
    "    gb_results['avg'] = gb_results.mean(axis=1)\n",
    "    x.append(estimator)\n",
    "    y1.append(gb_results.loc['rmse_train'].avg)\n",
    "    y2.append(gb_results.loc['rmse_valid'].avg)\n",
    "    \n",
    "re = pd.DataFrame([x,y1,y2]).T\n",
    "re.columns=['estimators','rmse_train','rmse_valid']\n",
    "re = re.melt(id_vars=['estimators'])\n",
    "\n",
    "fig = sns.lineplot(data=re,x='estimators',y='value',hue='variable')\n",
    "fig.set_xticks(estimators_list);\n",
    "fig.set_xticklabels(estimators_list);\n",
    "fig.set_title('Change in RMSE in increasing Estimators (GB)');"
   ]
  },
  {
   "cell_type": "markdown",
   "metadata": {},
   "source": [
    "## 3.3. Error Rate in Total Monthly Orders"
   ]
  },
  {
   "cell_type": "code",
   "execution_count": 153,
   "metadata": {},
   "outputs": [],
   "source": [
    "df['period_str'] = df.period.astype(str)\n",
    "monthly_orders = pd.DataFrame(df.groupby('period_str').TARGET.mean(),columns=['TARGET']).reset_index()"
   ]
  },
  {
   "cell_type": "code",
   "execution_count": 56,
   "metadata": {},
   "outputs": [],
   "source": [
    "def get_monthly_orders_from_results(dct):\n",
    "    res = {}\n",
    "    for key in dct.keys():\n",
    "        tmp = dct[key]\n",
    "        dfs = []\n",
    "        for fold in tmp['results'].keys():\n",
    "            r = np.hstack((tmp['results'][fold]['preds']['train_y_pred'],tmp['results'][fold]['preds']['valid_y_pred']))\n",
    "            dfs.append(r)\n",
    "        res[key] = pd.DataFrame(dfs).T\n",
    "    return res"
   ]
  },
  {
   "cell_type": "code",
   "execution_count": 177,
   "metadata": {},
   "outputs": [],
   "source": [
    "monthly_orders_knn = get_monthly_orders_from_results(cumulative_model_results_knn)[10]\n",
    "monthly_orders_knn['knn_pred'] = monthly_orders_knn.mean(axis=1)\n",
    "monthly_orders_knn = pd.concat([df.period_str,monthly_orders_knn],axis=1)\n",
    "# monthly_orders_knn = pd.DataFrame(monthly_orders_knn.groupby('period_str')['avg'].mean()).reset_index().rename({'avg':'order_quantity_knn'},axis=1)"
   ]
  },
  {
   "cell_type": "code",
   "execution_count": 178,
   "metadata": {},
   "outputs": [],
   "source": [
    "monthly_orders_rf = get_monthly_orders_from_results(cumulative_model_results_rf)[1000]\n",
    "monthly_orders_rf['rf_pred'] = monthly_orders_rf.mean(axis=1)\n",
    "monthly_orders_rf = pd.concat([df.period_str,monthly_orders_rf],axis=1)\n",
    "# monthly_orders_rf = pd.DataFrame(monthly_orders_rf.groupby('period_str')['avg'].mean()).reset_index().rename({'avg':'order_quantity_rf'},axis=1)"
   ]
  },
  {
   "cell_type": "code",
   "execution_count": 179,
   "metadata": {},
   "outputs": [],
   "source": [
    "monthly_orders_gb = get_monthly_orders_from_results(cumulative_model_results_gb)[1000]\n",
    "monthly_orders_gb['gb_pred'] = monthly_orders_gb.mean(axis=1)\n",
    "monthly_orders_gb = pd.concat([df.period_str,monthly_orders_gb],axis=1)\n",
    "# monthly_orders_gb = pd.DataFrame(monthly_orders_gb.groupby('period_str')['avg'].mean()).reset_index().rename({'avg':'order_quantity_gb'},axis=1)"
   ]
  },
  {
   "cell_type": "code",
   "execution_count": 180,
   "metadata": {},
   "outputs": [],
   "source": [
    "monthly_orders_dnn = get_monthly_orders_from_results(cumulative_model_results_dnn)[\"3-layer-128-64-32-001lr-adam-100epoch-real\"]\n",
    "monthly_orders_dnn['dnn_pred'] = monthly_orders_dnn.mean(axis=1)\n",
    "monthly_orders_dnn = pd.concat([df.period_str,monthly_orders_dnn],axis=1)\n",
    "#monthly_orders_dnn = pd.DataFrame(monthly_orders_dnn.groupby('period_str')['avg'].mean()).reset_index().rename({'avg':'order_quantity_dnn'},axis=1)"
   ]
  },
  {
   "cell_type": "code",
   "execution_count": 190,
   "metadata": {},
   "outputs": [],
   "source": [
    "df_preds = pd.concat([df[[\"period_str\",\"part_id\",\"TARGET\"]],monthly_orders_knn['knn_pred'],monthly_orders_rf['rf_pred'],monthly_orders_gb['gb_pred'],monthly_orders_dnn['dnn_pred']], axis=1)"
   ]
  },
  {
   "cell_type": "code",
   "execution_count": 193,
   "metadata": {},
   "outputs": [
    {
     "data": {
      "text/html": [
       "<div>\n",
       "<style scoped>\n",
       "    .dataframe tbody tr th:only-of-type {\n",
       "        vertical-align: middle;\n",
       "    }\n",
       "\n",
       "    .dataframe tbody tr th {\n",
       "        vertical-align: top;\n",
       "    }\n",
       "\n",
       "    .dataframe thead th {\n",
       "        text-align: right;\n",
       "    }\n",
       "</style>\n",
       "<table border=\"1\" class=\"dataframe\">\n",
       "  <thead>\n",
       "    <tr style=\"text-align: right;\">\n",
       "      <th></th>\n",
       "      <th>period_str</th>\n",
       "      <th>part_id</th>\n",
       "      <th>TARGET</th>\n",
       "      <th>knn_pred</th>\n",
       "      <th>rf_pred</th>\n",
       "      <th>gb_pred</th>\n",
       "      <th>dnn_pred</th>\n",
       "    </tr>\n",
       "  </thead>\n",
       "  <tbody>\n",
       "    <tr>\n",
       "      <th>107056</th>\n",
       "      <td>2018-12</td>\n",
       "      <td>56833</td>\n",
       "      <td>6.0</td>\n",
       "      <td>4.00</td>\n",
       "      <td>6.966253</td>\n",
       "      <td>6.976740</td>\n",
       "      <td>5.669744</td>\n",
       "    </tr>\n",
       "    <tr>\n",
       "      <th>112056</th>\n",
       "      <td>2019-01</td>\n",
       "      <td>56833</td>\n",
       "      <td>6.0</td>\n",
       "      <td>4.20</td>\n",
       "      <td>6.451563</td>\n",
       "      <td>5.948996</td>\n",
       "      <td>6.029579</td>\n",
       "    </tr>\n",
       "    <tr>\n",
       "      <th>117056</th>\n",
       "      <td>2019-02</td>\n",
       "      <td>56833</td>\n",
       "      <td>6.0</td>\n",
       "      <td>3.90</td>\n",
       "      <td>6.417998</td>\n",
       "      <td>5.886477</td>\n",
       "      <td>6.094328</td>\n",
       "    </tr>\n",
       "    <tr>\n",
       "      <th>122056</th>\n",
       "      <td>2019-03</td>\n",
       "      <td>56833</td>\n",
       "      <td>6.0</td>\n",
       "      <td>11.25</td>\n",
       "      <td>6.419049</td>\n",
       "      <td>5.555550</td>\n",
       "      <td>4.470659</td>\n",
       "    </tr>\n",
       "    <tr>\n",
       "      <th>127056</th>\n",
       "      <td>2019-04</td>\n",
       "      <td>56833</td>\n",
       "      <td>12.0</td>\n",
       "      <td>5.85</td>\n",
       "      <td>6.419049</td>\n",
       "      <td>5.555550</td>\n",
       "      <td>4.471966</td>\n",
       "    </tr>\n",
       "    <tr>\n",
       "      <th>132056</th>\n",
       "      <td>2019-05</td>\n",
       "      <td>56833</td>\n",
       "      <td>6.0</td>\n",
       "      <td>4.80</td>\n",
       "      <td>6.429278</td>\n",
       "      <td>5.809896</td>\n",
       "      <td>4.424819</td>\n",
       "    </tr>\n",
       "    <tr>\n",
       "      <th>137056</th>\n",
       "      <td>2019-06</td>\n",
       "      <td>56833</td>\n",
       "      <td>0.0</td>\n",
       "      <td>6.00</td>\n",
       "      <td>6.803196</td>\n",
       "      <td>5.806937</td>\n",
       "      <td>5.315390</td>\n",
       "    </tr>\n",
       "    <tr>\n",
       "      <th>142056</th>\n",
       "      <td>2019-07</td>\n",
       "      <td>56833</td>\n",
       "      <td>6.0</td>\n",
       "      <td>5.85</td>\n",
       "      <td>5.804919</td>\n",
       "      <td>5.699092</td>\n",
       "      <td>3.073685</td>\n",
       "    </tr>\n",
       "    <tr>\n",
       "      <th>147056</th>\n",
       "      <td>2019-08</td>\n",
       "      <td>56833</td>\n",
       "      <td>6.0</td>\n",
       "      <td>2.40</td>\n",
       "      <td>5.796414</td>\n",
       "      <td>5.441174</td>\n",
       "      <td>3.311896</td>\n",
       "    </tr>\n",
       "    <tr>\n",
       "      <th>152056</th>\n",
       "      <td>2019-09</td>\n",
       "      <td>56833</td>\n",
       "      <td>12.0</td>\n",
       "      <td>6.00</td>\n",
       "      <td>5.796414</td>\n",
       "      <td>5.441174</td>\n",
       "      <td>3.288799</td>\n",
       "    </tr>\n",
       "    <tr>\n",
       "      <th>157056</th>\n",
       "      <td>2019-10</td>\n",
       "      <td>56833</td>\n",
       "      <td>3.0</td>\n",
       "      <td>3.60</td>\n",
       "      <td>6.497773</td>\n",
       "      <td>5.763641</td>\n",
       "      <td>3.327893</td>\n",
       "    </tr>\n",
       "    <tr>\n",
       "      <th>162056</th>\n",
       "      <td>2019-11</td>\n",
       "      <td>56833</td>\n",
       "      <td>3.0</td>\n",
       "      <td>5.40</td>\n",
       "      <td>5.437561</td>\n",
       "      <td>5.477370</td>\n",
       "      <td>6.173302</td>\n",
       "    </tr>\n",
       "    <tr>\n",
       "      <th>167056</th>\n",
       "      <td>2019-12</td>\n",
       "      <td>56833</td>\n",
       "      <td>9.0</td>\n",
       "      <td>6.60</td>\n",
       "      <td>5.426674</td>\n",
       "      <td>5.214699</td>\n",
       "      <td>3.393996</td>\n",
       "    </tr>\n",
       "  </tbody>\n",
       "</table>\n",
       "</div>"
      ],
      "text/plain": [
       "       period_str  part_id  TARGET  knn_pred   rf_pred   gb_pred  dnn_pred\n",
       "107056    2018-12    56833     6.0      4.00  6.966253  6.976740  5.669744\n",
       "112056    2019-01    56833     6.0      4.20  6.451563  5.948996  6.029579\n",
       "117056    2019-02    56833     6.0      3.90  6.417998  5.886477  6.094328\n",
       "122056    2019-03    56833     6.0     11.25  6.419049  5.555550  4.470659\n",
       "127056    2019-04    56833    12.0      5.85  6.419049  5.555550  4.471966\n",
       "132056    2019-05    56833     6.0      4.80  6.429278  5.809896  4.424819\n",
       "137056    2019-06    56833     0.0      6.00  6.803196  5.806937  5.315390\n",
       "142056    2019-07    56833     6.0      5.85  5.804919  5.699092  3.073685\n",
       "147056    2019-08    56833     6.0      2.40  5.796414  5.441174  3.311896\n",
       "152056    2019-09    56833    12.0      6.00  5.796414  5.441174  3.288799\n",
       "157056    2019-10    56833     3.0      3.60  6.497773  5.763641  3.327893\n",
       "162056    2019-11    56833     3.0      5.40  5.437561  5.477370  6.173302\n",
       "167056    2019-12    56833     9.0      6.60  5.426674  5.214699  3.393996"
      ]
     },
     "execution_count": 193,
     "metadata": {},
     "output_type": "execute_result"
    }
   ],
   "source": [
    "df_preds[df_preds.part_id==56833]"
   ]
  },
  {
   "cell_type": "code",
   "execution_count": 165,
   "metadata": {
    "scrolled": false
   },
   "outputs": [
    {
     "data": {
      "text/plain": [
       "6.394710306732686"
      ]
     },
     "execution_count": 165,
     "metadata": {},
     "output_type": "execute_result"
    }
   ],
   "source": [
    "mean_squared_error(np.ravel(df.TARGET),np.ravel(monthly_orders_gb[\"avg\"]),squared=False)"
   ]
  },
  {
   "cell_type": "code",
   "execution_count": 163,
   "metadata": {
    "scrolled": true
   },
   "outputs": [
    {
     "data": {
      "text/plain": [
       "5.756619154093625"
      ]
     },
     "execution_count": 163,
     "metadata": {},
     "output_type": "execute_result"
    }
   ],
   "source": [
    "mean_squared_error(np.ravel(df.TARGET),np.ravel(monthly_orders_dnn[\"avg\"]),squared=False)"
   ]
  },
  {
   "cell_type": "code",
   "execution_count": null,
   "metadata": {},
   "outputs": [],
   "source": [
    "monthly_orders_dnn = pd.DataFrame(monthly_orders_dnn.groupby('period_str')['avg'].mean()).reset_index().rename({'avg':'order_quantity_dnn'},axis=1)"
   ]
  },
  {
   "cell_type": "code",
   "execution_count": 155,
   "metadata": {},
   "outputs": [],
   "source": [
    "monthly_orders_per_model = monthly_orders.merge(monthly_orders_knn,on='period_str').merge(monthly_orders_rf,on='period_str').merge(monthly_orders_gb,on='period_str').merge(monthly_orders_dnn,on='period_str')\n",
    "monthly_orders_per_model = monthly_orders_per_model.melt(id_vars=['period_str'])"
   ]
  },
  {
   "cell_type": "code",
   "execution_count": 156,
   "metadata": {},
   "outputs": [
    {
     "name": "stderr",
     "output_type": "stream",
     "text": [
      "/var/folders/tz/0rflsy9n69g5zgfg581qlnt40000gn/T/ipykernel_1411/3008474350.py:6: UserWarning: FixedFormatter should only be used together with FixedLocator\n",
      "  fig.set_xticklabels(labels=monthly_orders_per_model.period_str,rotation=45);\n"
     ]
    },
    {
     "data": {
      "image/png": "[encoded data removed]",
      "text/plain": [
       "<Figure size 864x360 with 1 Axes>"
      ]
     },
     "metadata": {
      "needs_background": "light"
     },
     "output_type": "display_data"
    }
   ],
   "source": [
    "plt.figure(figsize=(12,5))\n",
    "fig = sns.lineplot(data=monthly_orders_per_model,x='period_str',y='value',hue='variable')\n",
    "fig.set_title('Total Orders per Month (Initial Parameters)')\n",
    "fig.set_xlabel('Month')\n",
    "fig.set_ylabel('Order Quantity')\n",
    "fig.set_xticklabels(labels=monthly_orders_per_model.period_str,rotation=45);"
   ]
  },
  {
   "cell_type": "markdown",
   "metadata": {},
   "source": [
    "# 4. Comparing with Previous Work"
   ]
  },
  {
   "cell_type": "markdown",
   "metadata": {},
   "source": [
    "## 4.1. SVM"
   ]
  },
  {
   "cell_type": "code",
   "execution_count": 44,
   "metadata": {
    "scrolled": true
   },
   "outputs": [
    {
     "data": {
      "application/vnd.jupyter.widget-view+json": {
       "model_id": "166ccf39e7bb41969e17656d40cc48b3",
       "version_major": 2,
       "version_minor": 0
      },
      "text/plain": [
       "  0%|          | 0/5 [00:00<?, ?it/s]"
      ]
     },
     "metadata": {},
     "output_type": "display_data"
    },
    {
     "name": "stdout",
     "output_type": "stream",
     "text": [
      "===== SVM Regressor - fold 1 =====\n",
      "fitting model...\n",
      "model fit!\n",
      "predictions are made for train_x! 1\n",
      "predictions are made for train_x! 2\n",
      "predictions are made for valid_x!\n",
      "execution time: 1.6677870750427246\n",
      "{'execution_time': 1.6677870750427246,\n",
      " 'metrics': {'mae_train': 4.219604887350045,\n",
      "             'mae_valid': 3.610521533844004,\n",
      "             'rmse_train': 7.416549894940554,\n",
      "             'rmse_valid': 6.768480916412344},\n",
      " 'preds': {'train_y_pred': array([8.19226574, 8.27212998, 7.20275476, ..., 5.61721786, 0.12010683,\n",
      "       8.36339316]),\n",
      "           'valid_y_pred': array([7.00514218, 5.41343538, 2.77678492, ..., 4.89595934, 0.08318247,\n",
      "       9.23973873])}}\n",
      "===== SVM Regressor - fold 2 =====\n",
      "fitting model...\n",
      "model fit!\n",
      "predictions are made for train_x! 1\n",
      "predictions are made for train_x! 2\n",
      "predictions are made for valid_x!\n",
      "execution time: 1.506180763244629\n",
      "{'execution_time': 1.506180763244629,\n",
      " 'metrics': {'mae_train': 4.327489803755414,\n",
      "             'mae_valid': 3.6397531812608666,\n",
      "             'rmse_train': 7.546723781488819,\n",
      "             'rmse_valid': 6.803501807473085},\n",
      " 'preds': {'train_y_pred': array([8.44645448, 8.5119056 , 7.22956111, ..., 6.10756778, 0.32206664,\n",
      "       8.63865315]),\n",
      "           'valid_y_pred': array([ 5.42473944,  5.93916588,  3.67186684, ...,  5.35880661,\n",
      "       -0.44167979,  8.08108904])}}\n",
      "===== SVM Regressor - fold 3 =====\n",
      "fitting model...\n",
      "model fit!\n",
      "predictions are made for train_x! 1\n",
      "predictions are made for train_x! 2\n",
      "predictions are made for valid_x!\n",
      "execution time: 1.2679369449615479\n",
      "{'execution_time': 1.2679369449615479,\n",
      " 'metrics': {'mae_train': 4.4982947346984785,\n",
      "             'mae_valid': 3.691825353761283,\n",
      "             'rmse_train': 7.743977863205741,\n",
      "             'rmse_valid': 6.7875051774835},\n",
      " 'preds': {'train_y_pred': array([8.65289102, 8.71606661, 7.11874143, ..., 4.83358371, 2.92475183,\n",
      "       2.9488158 ]),\n",
      "           'valid_y_pred': array([ 5.8198149 ,  4.69448224,  2.08966645, ...,  6.08432586,\n",
      "       -0.08946524,  8.56789753])}}\n",
      "===== SVM Regressor - fold 4 =====\n",
      "fitting model...\n",
      "model fit!\n",
      "predictions are made for train_x! 1\n",
      "predictions are made for train_x! 2\n",
      "predictions are made for valid_x!\n",
      "execution time: 0.9942598342895508\n",
      "{'execution_time': 0.9942598342895508,\n",
      " 'metrics': {'mae_train': 4.663636648479074,\n",
      "             'mae_valid': 3.9520114985133254,\n",
      "             'rmse_train': 7.94477274938898,\n",
      "             'rmse_valid': 7.190507423625573},\n",
      " 'preds': {'train_y_pred': array([ 8.82777261,  8.86987297,  7.0800942 , ...,  3.51798997,\n",
      "       -3.0921934 ,  0.87312798]),\n",
      "           'valid_y_pred': array([6.61060511, 5.820452  , 2.2387749 , ..., 4.4630775 , 2.4515964 ,\n",
      "       2.49802984])}}\n",
      "===== SVM Regressor - fold 5 =====\n",
      "fitting model...\n",
      "model fit!\n",
      "predictions are made for train_x! 1\n",
      "predictions are made for train_x! 2\n",
      "predictions are made for valid_x!\n",
      "execution time: 0.6286218166351318\n",
      "{'execution_time': 0.6286218166351318,\n",
      " 'metrics': {'mae_train': 4.869178968264148,\n",
      "             'mae_valid': 4.202671291080875,\n",
      "             'rmse_train': 8.200194276606867,\n",
      "             'rmse_valid': 7.494892657890023},\n",
      " 'preds': {'train_y_pred': array([8.88199363, 8.93197981, 6.74460524, ..., 2.95836701, 3.90456543,\n",
      "       3.21477072]),\n",
      "           'valid_y_pred': array([ 6.28572244,  6.28560609,  2.40434057, ...,  3.43807622,\n",
      "       -3.49259598,  0.83760196])}}\n"
     ]
    }
   ],
   "source": [
    "cumulative_model_results_svm = {}\n",
    "tols = [0.00001,0.00002,0.00003,0.00004,0.00005,0.00006,0.00007,0.00008,0.00009,0.00010]\n",
    "tols = [0.00001]\n",
    "for tol in tols:\n",
    "    svm = LinearSVR(\n",
    "              tol=tol,\n",
    "              loss='squared_epsilon_insensitive',\n",
    "              fit_intercept=True,\n",
    "              intercept_scaling=1.0,\n",
    "              dual=False,\n",
    "              max_iter=100000)\n",
    "    results, svm = run_kfold_model(df,svm,'SVM Regressor',final_features,ix,folds=[1,2,3,4,5])\n",
    "    cumulative_model_results_svm[str(tol)] = {'results':results,'model':svm}"
   ]
  },
  {
   "cell_type": "code",
   "execution_count": 45,
   "metadata": {
    "scrolled": false
   },
   "outputs": [
    {
     "data": {
      "image/png": "[encoded data removed]",
      "text/plain": [
       "<Figure size 432x288 with 1 Axes>"
      ]
     },
     "metadata": {
      "needs_background": "light"
     },
     "output_type": "display_data"
    }
   ],
   "source": [
    "tols = [0.00001,0.00002,0.00003,0.00004,0.00005,0.00006,0.00007,0.00008,0.00009,0.00010]\n",
    "tols = [0.00001]\n",
    "x, y1, y2=[], [], []\n",
    "for tol in tols:\n",
    "    svm_results = get_metrics_from_results(cumulative_model_results_svm)[str(tol)]\n",
    "    svm_results['avg'] = svm_results.mean(axis=1)\n",
    "    x.append(tol)\n",
    "    y1.append(svm_results.loc['rmse_train'].avg)\n",
    "    y2.append(svm_results.loc['rmse_valid'].avg)\n",
    "    \n",
    "re = pd.DataFrame([x,y1,y2]).T\n",
    "re.columns=['tol','rmse_train','rmse_valid']\n",
    "re = re.melt(id_vars=['tol'])\n",
    "\n",
    "fig = sns.lineplot(data=re,x='tol',y='value',hue='variable')\n",
    "fig.set_xticks(tols);\n",
    "fig.set_xticklabels(tols);\n",
    "fig.set_title('Change in RMSE in increasing Estimators (SVM)');"
   ]
  },
  {
   "cell_type": "code",
   "execution_count": 46,
   "metadata": {},
   "outputs": [
    {
     "data": {
      "text/html": [
       "<div>\n",
       "<style scoped>\n",
       "    .dataframe tbody tr th:only-of-type {\n",
       "        vertical-align: middle;\n",
       "    }\n",
       "\n",
       "    .dataframe tbody tr th {\n",
       "        vertical-align: top;\n",
       "    }\n",
       "\n",
       "    .dataframe thead th {\n",
       "        text-align: right;\n",
       "    }\n",
       "</style>\n",
       "<table border=\"1\" class=\"dataframe\">\n",
       "  <thead>\n",
       "    <tr style=\"text-align: right;\">\n",
       "      <th></th>\n",
       "      <th>fold_1</th>\n",
       "      <th>fold_2</th>\n",
       "      <th>fold_3</th>\n",
       "      <th>fold_4</th>\n",
       "      <th>fold_5</th>\n",
       "      <th>avg</th>\n",
       "    </tr>\n",
       "  </thead>\n",
       "  <tbody>\n",
       "    <tr>\n",
       "      <th>rmse_train</th>\n",
       "      <td>7.416550</td>\n",
       "      <td>7.546724</td>\n",
       "      <td>7.743978</td>\n",
       "      <td>7.944773</td>\n",
       "      <td>8.200194</td>\n",
       "      <td>7.770444</td>\n",
       "    </tr>\n",
       "    <tr>\n",
       "      <th>mae_train</th>\n",
       "      <td>4.219605</td>\n",
       "      <td>4.327490</td>\n",
       "      <td>4.498295</td>\n",
       "      <td>4.663637</td>\n",
       "      <td>4.869179</td>\n",
       "      <td>4.515641</td>\n",
       "    </tr>\n",
       "    <tr>\n",
       "      <th>rmse_valid</th>\n",
       "      <td>6.768481</td>\n",
       "      <td>6.803502</td>\n",
       "      <td>6.787505</td>\n",
       "      <td>7.190507</td>\n",
       "      <td>7.494893</td>\n",
       "      <td>7.008978</td>\n",
       "    </tr>\n",
       "    <tr>\n",
       "      <th>mae_valid</th>\n",
       "      <td>3.610522</td>\n",
       "      <td>3.639753</td>\n",
       "      <td>3.691825</td>\n",
       "      <td>3.952011</td>\n",
       "      <td>4.202671</td>\n",
       "      <td>3.819357</td>\n",
       "    </tr>\n",
       "  </tbody>\n",
       "</table>\n",
       "</div>"
      ],
      "text/plain": [
       "              fold_1    fold_2    fold_3    fold_4    fold_5       avg\n",
       "rmse_train  7.416550  7.546724  7.743978  7.944773  8.200194  7.770444\n",
       "mae_train   4.219605  4.327490  4.498295  4.663637  4.869179  4.515641\n",
       "rmse_valid  6.768481  6.803502  6.787505  7.190507  7.494893  7.008978\n",
       "mae_valid   3.610522  3.639753  3.691825  3.952011  4.202671  3.819357"
      ]
     },
     "execution_count": 46,
     "metadata": {},
     "output_type": "execute_result"
    }
   ],
   "source": [
    "svm_results = get_metrics_from_results(cumulative_model_results_svm)[str(0.00001)]\n",
    "svm_results['avg'] = svm_results.mean(axis=1)\n",
    "svm_results"
   ]
  },
  {
   "cell_type": "markdown",
   "metadata": {},
   "source": [
    "## 4.2. MLP"
   ]
  },
  {
   "cell_type": "code",
   "execution_count": null,
   "metadata": {},
   "outputs": [],
   "source": [
    "from sknn.mlp import Regressor as SKNNRegressor"
   ]
  },
  {
   "cell_type": "code",
   "execution_count": null,
   "metadata": {},
   "outputs": [],
   "source": [
    "from sklearn.neural_network import MLPRegressor"
   ]
  },
  {
   "cell_type": "code",
   "execution_count": null,
   "metadata": {},
   "outputs": [],
   "source": [
    "import time"
   ]
  },
  {
   "cell_type": "code",
   "execution_count": null,
   "metadata": {
    "scrolled": true
   },
   "outputs": [],
   "source": [
    "cumulative_model_results_mlp = {}\n",
    "layer_sizes = [\n",
    "    (100,), # 1 layer\n",
    "    (100,100,), # 2 layers\n",
    "    (100,100,100,), # 3 layers\n",
    "    (200,), # 1 layer\n",
    "    (200,100,), # 2 layers\n",
    "    (200,100,100,) # 3 layers\n",
    "]\n",
    "for layer_size in layer_sizes:\n",
    "    # Model with following parameters:\n",
    "    mlp = MLPRegressor(\n",
    "        hidden_layer_sizes=layer_size,\n",
    "        activation='relu',\n",
    "        solver='adam',\n",
    "        alpha=0.0001,\n",
    "        batch_size='auto',\n",
    "        learning_rate='constant',\n",
    "        learning_rate_init=0.001,\n",
    "        power_t=0.5,\n",
    "        max_iter=600,\n",
    "        shuffle=True,\n",
    "        momentum=0.9,\n",
    "        beta_1=0.9,\n",
    "        beta_2=0.999,\n",
    "        epsilon=1e-08,\n",
    "        n_iter_no_change=10,\n",
    "        max_fun=15000)\n",
    "    results, mlp = run_kfold_model(df,mlp,'MLP Regressor',final_features,ix,folds=[1,2,3,4,5])\n",
    "    cumulative_model_results_mlp[\"-\".join([str(e) for e in layer_size])] = {'results':results,'model':mlp}"
   ]
  },
  {
   "cell_type": "code",
   "execution_count": null,
   "metadata": {
    "scrolled": true
   },
   "outputs": [],
   "source": [
    "cumulative_model_results_mlp"
   ]
  },
  {
   "cell_type": "code",
   "execution_count": null,
   "metadata": {
    "scrolled": false
   },
   "outputs": [],
   "source": [
    "# max_iters = [200,400,600,800,1000]\n",
    "x, y1, y2=[], [], []\n",
    "for layer_size in layer_sizes:\n",
    "    mlp_results = get_metrics_from_results(cumulative_model_results_mlp)[\"-\".join([str(e) for e in layer_size])]\n",
    "    mlp_results['avg'] = mlp_results.mean(axis=1)\n",
    "    x.append(\"-\".join([str(e) for e in layer_size]))\n",
    "    y1.append(mlp_results.loc['rmse_train'].avg)\n",
    "    y2.append(mlp_results.loc['rmse_valid'].avg)\n",
    "    \n",
    "re = pd.DataFrame([x,y1,y2]).T\n",
    "re.columns=['max_iter','rmse_train','rmse_valid']\n",
    "re = re.melt(id_vars=['max_iter'])\n",
    "\n",
    "fig = sns.lineplot(data=re,x='max_iter',y='value',hue='variable')\n",
    "fig.set_xticks([\"-\".join([str(e) for e in layer_size]) for layer_size in layer_sizes]);\n",
    "fig.set_xticklabels([\"-\".join([str(e) for e in layer_size]) for layer_size in layer_sizes]);\n",
    "fig.set_title('Change in RMSE in increasing Estimators (MLP)');"
   ]
  },
  {
   "cell_type": "markdown",
   "metadata": {},
   "source": [
    "### Hidden layers = 1 (100 neurons)"
   ]
  },
  {
   "cell_type": "code",
   "execution_count": null,
   "metadata": {},
   "outputs": [],
   "source": [
    "mlp_results = get_metrics_from_results(cumulative_model_results_mlp)[\"100\"]\n",
    "mlp_results['avg'] = mlp_results.mean(axis=1)\n",
    "mlp_results"
   ]
  },
  {
   "cell_type": "markdown",
   "metadata": {},
   "source": [
    "### Hidden layers = 2 (100-100 neurons)"
   ]
  },
  {
   "cell_type": "code",
   "execution_count": null,
   "metadata": {},
   "outputs": [],
   "source": [
    "mlp_results = get_metrics_from_results(cumulative_model_results_mlp)[\"100-100\"]\n",
    "mlp_results['avg'] = mlp_results.mean(axis=1)\n",
    "mlp_results"
   ]
  },
  {
   "cell_type": "markdown",
   "metadata": {},
   "source": [
    "### Hidden layers = 3 (100-100-100 neurons)"
   ]
  },
  {
   "cell_type": "code",
   "execution_count": null,
   "metadata": {},
   "outputs": [],
   "source": [
    "mlp_results = get_metrics_from_results(cumulative_model_results_mlp)[\"100-100-100\"]\n",
    "mlp_results['avg'] = mlp_results.mean(axis=1)\n",
    "mlp_results"
   ]
  },
  {
   "cell_type": "markdown",
   "metadata": {},
   "source": [
    "### Hidden layers = 1 (200 neurons)"
   ]
  },
  {
   "cell_type": "code",
   "execution_count": null,
   "metadata": {},
   "outputs": [],
   "source": [
    "mlp_results = get_metrics_from_results(cumulative_model_results_mlp)[\"200\"]\n",
    "mlp_results['avg'] = mlp_results.mean(axis=1)\n",
    "mlp_results"
   ]
  },
  {
   "cell_type": "markdown",
   "metadata": {},
   "source": [
    "### Hidden layers = 2 (200-100 neurons)"
   ]
  },
  {
   "cell_type": "code",
   "execution_count": null,
   "metadata": {},
   "outputs": [],
   "source": [
    "mlp_results = get_metrics_from_results(cumulative_model_results_mlp)[\"200-100\"]\n",
    "mlp_results['avg'] = mlp_results.mean(axis=1)\n",
    "mlp_results"
   ]
  },
  {
   "cell_type": "markdown",
   "metadata": {},
   "source": [
    "### Hidden layers = 3 (200-100-100 neurons)"
   ]
  },
  {
   "cell_type": "code",
   "execution_count": null,
   "metadata": {},
   "outputs": [],
   "source": [
    "mlp_results = get_metrics_from_results(cumulative_model_results_mlp)[\"200-100-100\"]\n",
    "mlp_results['avg'] = mlp_results.mean(axis=1)\n",
    "mlp_results"
   ]
  },
  {
   "cell_type": "markdown",
   "metadata": {},
   "source": [
    "# Dropout Model in Keras"
   ]
  },
  {
   "cell_type": "code",
   "execution_count": 27,
   "metadata": {},
   "outputs": [],
   "source": [
    "import tensorflow as tf\n",
    "from tensorflow import keras\n",
    "from tensorflow.keras import layers"
   ]
  },
  {
   "cell_type": "code",
   "execution_count": 23,
   "metadata": {},
   "outputs": [
    {
     "data": {
      "text/plain": [
       "'2.7.0'"
      ]
     },
     "execution_count": 23,
     "metadata": {},
     "output_type": "execute_result"
    }
   ],
   "source": [
    "tf.__version__"
   ]
  },
  {
   "cell_type": "markdown",
   "metadata": {},
   "source": [
    "### The Normalization layer"
   ]
  },
  {
   "cell_type": "code",
   "execution_count": 28,
   "metadata": {},
   "outputs": [],
   "source": [
    "normalizer = tf.keras.layers.Normalization(axis=-1)"
   ]
  },
  {
   "cell_type": "code",
   "execution_count": 29,
   "metadata": {},
   "outputs": [
    {
     "name": "stderr",
     "output_type": "stream",
     "text": [
      "2021-12-06 20:00:18.435136: I tensorflow/core/platform/cpu_feature_guard.cc:151] This TensorFlow binary is optimized with oneAPI Deep Neural Network Library (oneDNN) to use the following CPU instructions in performance-critical operations:  AVX2 AVX512F FMA\n",
      "To enable them in other operations, rebuild TensorFlow with the appropriate compiler flags.\n"
     ]
    }
   ],
   "source": [
    "normalizer.adapt(np.array(df[final_features]))"
   ]
  },
  {
   "cell_type": "code",
   "execution_count": 30,
   "metadata": {},
   "outputs": [
    {
     "name": "stdout",
     "output_type": "stream",
     "text": [
      "First example: [[15.   15.   15.   15.   15.   15.    5.55  3.82 45.    5.42  4.38  3.\n",
      "   0.    1.    1.    0.    0.    0.    0.    0.    1.    0.61]]\n",
      "\n",
      "Normalized: [[ 0.43  0.36  0.3   0.26  0.22  0.19 -0.   -0.06  0.42 -0.01 -0.06  0.61\n",
      "  -0.31 -0.68  0.56 -0.25 -0.21 -0.27 -0.28 -1.52 -1.83 -0.62]]\n"
     ]
    }
   ],
   "source": [
    "first = np.array(df[final_features][:1])\n",
    "\n",
    "with np.printoptions(precision=2, suppress=True):\n",
    "    print('First example:', first)\n",
    "    print()\n",
    "    print('Normalized:', normalizer(first).numpy())"
   ]
  },
  {
   "cell_type": "code",
   "execution_count": 27,
   "metadata": {},
   "outputs": [],
   "source": [
    "# model = tf.keras.models.Sequential([\n",
    "#   tf.keras.layers.Flatten(input_shape=(28, 28)),\n",
    "#   tf.keras.layers.Dense(128, activation='relu'),\n",
    "#   tf.keras.layers.Dropout(0.2),\n",
    "#   tf.keras.layers.Dense(10)\n",
    "# ])"
   ]
  },
  {
   "cell_type": "code",
   "execution_count": 31,
   "metadata": {},
   "outputs": [],
   "source": [
    "from tensorflow.keras.optimizers import SGD, Adam"
   ]
  },
  {
   "cell_type": "code",
   "execution_count": 1,
   "metadata": {},
   "outputs": [],
   "source": [
    "def build_and_compile_model(norm):\n",
    "    model = keras.Sequential([\n",
    "      norm,\n",
    "      layers.Dense(128, activation='relu'),\n",
    "      layers.Dense(64, activation='relu'),\n",
    "      layers.Dense(32, activation='relu'),\n",
    "      layers.Dense(1)\n",
    "    ])\n",
    "\n",
    "    model.compile(loss='mean_absolute_error',\n",
    "                  # optimizer=SGD(learning_rate=0.0001,decay=1e-4),\n",
    "                  optimizer=Adam(learning_rate=0.001)\n",
    "                 )\n",
    "    return model"
   ]
  },
  {
   "cell_type": "code",
   "execution_count": 2,
   "metadata": {},
   "outputs": [
    {
     "ename": "NameError",
     "evalue": "name 'normalizer' is not defined",
     "output_type": "error",
     "traceback": [
      "\u001b[0;31m---------------------------------------------------------------------------\u001b[0m",
      "\u001b[0;31mNameError\u001b[0m                                 Traceback (most recent call last)",
      "\u001b[0;32m/var/folders/tz/0rflsy9n69g5zgfg581qlnt40000gn/T/ipykernel_6380/1776999586.py\u001b[0m in \u001b[0;36m<module>\u001b[0;34m\u001b[0m\n\u001b[0;32m----> 1\u001b[0;31m \u001b[0mdnn\u001b[0m \u001b[0;34m=\u001b[0m \u001b[0mbuild_and_compile_model\u001b[0m\u001b[0;34m(\u001b[0m\u001b[0mnormalizer\u001b[0m\u001b[0;34m)\u001b[0m\u001b[0;34m\u001b[0m\u001b[0;34m\u001b[0m\u001b[0m\n\u001b[0m",
      "\u001b[0;31mNameError\u001b[0m: name 'normalizer' is not defined"
     ]
    }
   ],
   "source": [
    "dnn = build_and_compile_model(normalizer)"
   ]
  },
  {
   "cell_type": "code",
   "execution_count": 34,
   "metadata": {},
   "outputs": [
    {
     "name": "stdout",
     "output_type": "stream",
     "text": [
      "Model: \"sequential\"\n",
      "_________________________________________________________________\n",
      " Layer (type)                Output Shape              Param #   \n",
      "=================================================================\n",
      " normalization (Normalizatio  (None, 22)               45        \n",
      " n)                                                              \n",
      "                                                                 \n",
      " dense (Dense)               (None, 128)               2944      \n",
      "                                                                 \n",
      " dense_1 (Dense)             (None, 64)                8256      \n",
      "                                                                 \n",
      " dense_2 (Dense)             (None, 32)                2080      \n",
      "                                                                 \n",
      " dense_3 (Dense)             (None, 1)                 33        \n",
      "                                                                 \n",
      "=================================================================\n",
      "Total params: 13,358\n",
      "Trainable params: 13,313\n",
      "Non-trainable params: 45\n",
      "_________________________________________________________________\n"
     ]
    }
   ],
   "source": [
    "dnn.summary()"
   ]
  },
  {
   "cell_type": "code",
   "execution_count": 32,
   "metadata": {},
   "outputs": [],
   "source": [
    "def plot_loss(history):\n",
    "    plt.plot(history.history['loss'], label='loss')\n",
    "    plt.plot(history.history['val_loss'], label='val_loss')\n",
    "    plt.ylim([0, 10])\n",
    "    plt.xlabel('Epoch')\n",
    "    plt.ylabel('Error [MPG]')\n",
    "    plt.legend()\n",
    "    plt.grid(True)"
   ]
  },
  {
   "cell_type": "code",
   "execution_count": 36,
   "metadata": {},
   "outputs": [],
   "source": [
    "test_results = {}"
   ]
  },
  {
   "cell_type": "code",
   "execution_count": 37,
   "metadata": {},
   "outputs": [],
   "source": [
    "# model = tf.keras.models.Sequential([\n",
    "#   tf.keras.layers.Flatten(input_shape=(28, 28)),\n",
    "#   tf.keras.layers.Dense(128, activation='relu'),\n",
    "#   tf.keras.layers.Dropout(0.2),\n",
    "#   tf.keras.layers.Dense(10)\n",
    "# ])"
   ]
  },
  {
   "cell_type": "code",
   "execution_count": 37,
   "metadata": {},
   "outputs": [],
   "source": [
    "cumulative_model_results_dnn = {}"
   ]
  },
  {
   "cell_type": "code",
   "execution_count": 102,
   "metadata": {},
   "outputs": [
    {
     "data": {
      "application/vnd.jupyter.widget-view+json": {
       "model_id": "44fca7e600374545a1934e51881efed7",
       "version_major": 2,
       "version_minor": 0
      },
      "text/plain": [
       "  0%|          | 0/5 [00:00<?, ?it/s]"
      ]
     },
     "metadata": {},
     "output_type": "display_data"
    },
    {
     "name": "stdout",
     "output_type": "stream",
     "text": [
      "===== DNN - fold 1 =====\n",
      "fitting model...\n",
      "model fit!\n",
      "predictions are made for train_x!\n",
      "predictions are made for valid_x!\n",
      "execution time: 288.0333080291748\n",
      "{'execution_time': 288.0333080291748,\n",
      " 'metrics': {'mae_train': 2.961794616057643,\n",
      "             'mae_valid': 3.6587392785999504,\n",
      "             'rmse_train': 5.392838207025878,\n",
      "             'rmse_valid': 8.064903692598758},\n",
      " 'preds': {'train_y_pred': array([6.5183454e+00, 8.1305885e+00, 1.9456060e+01, ..., 3.3589470e+00,\n",
      "       1.0038196e-03, 6.2249999e+00], dtype=float32),\n",
      "           'valid_y_pred': array([3.2712111e+00, 3.2194912e+00, 1.0038196e-03, ..., 3.3939958e+00,\n",
      "       1.0038196e-03, 6.2175326e+00], dtype=float32)}}\n",
      "===== DNN - fold 2 =====\n",
      "fitting model...\n",
      "model fit!\n",
      "predictions are made for train_x!\n",
      "predictions are made for valid_x!\n",
      "execution time: 239.23939514160156\n",
      "{'execution_time': 239.23939514160156,\n",
      " 'metrics': {'mae_train': 2.9117061609958754,\n",
      "             'mae_valid': 3.1506939374274223,\n",
      "             'rmse_train': 5.2165863712954765,\n",
      "             'rmse_valid': 6.403962605875726},\n",
      " 'preds': {'train_y_pred': array([ 5.7797575e+00,  7.2184649e+00,  1.3237520e+01, ...,\n",
      "        5.9030118e+00, -9.9863973e-06,  5.9583402e+00], dtype=float32),\n",
      "           'valid_y_pred': array([ 2.8127651e+00,  2.8633392e+00, -9.9863973e-06, ...,\n",
      "        2.7884231e+00, -9.9863973e-06,  5.9975362e+00], dtype=float32)}}\n",
      "===== DNN - fold 3 =====\n",
      "fitting model...\n",
      "model fit!\n",
      "predictions are made for train_x!\n",
      "predictions are made for valid_x!\n",
      "execution time: 191.17727732658386\n",
      "{'execution_time': 191.17727732658386,\n",
      " 'metrics': {'mae_train': 2.9112497598741993,\n",
      "             'mae_valid': 2.958329510267538,\n",
      "             'rmse_train': 5.1300251638606005,\n",
      "             'rmse_valid': 5.727175834047207},\n",
      " 'preds': {'train_y_pred': array([ 6.352549 ,  7.6588664, 16.029455 , ...,  3.8731472,  4.0440774,\n",
      "        4.343495 ], dtype=float32),\n",
      "           'valid_y_pred': array([ 3.0039225e+00,  2.9981754e+00, -1.2578996e-04, ...,\n",
      "        6.2977514e+00, -1.2578996e-04,  6.2006521e+00], dtype=float32)}}\n",
      "===== DNN - fold 4 =====\n",
      "fitting model...\n",
      "model fit!\n",
      "predictions are made for train_x!\n",
      "predictions are made for valid_x!\n",
      "execution time: 661.7298948764801\n",
      "{'execution_time': 661.7298948764801,\n",
      " 'metrics': {'mae_train': 2.9240524613811494,\n",
      "             'mae_valid': 3.03881438871965,\n",
      "             'rmse_train': 5.1652293563643985,\n",
      "             'rmse_valid': 5.489626550602918},\n",
      " 'preds': {'train_y_pred': array([ 6.4173036e+00,  7.7987523e+00,  1.5550129e+01, ...,\n",
      "        3.4302971e+00, -1.5579867e-03, -1.5579867e-03], dtype=float32),\n",
      "           'valid_y_pred': array([ 5.6505718e+00,  5.3714728e+00, -1.5579867e-03, ...,\n",
      "        5.4204888e+00,  2.4136539e+00,  4.3639712e+00], dtype=float32)}}\n",
      "===== DNN - fold 5 =====\n",
      "fitting model...\n",
      "model fit!\n",
      "predictions are made for train_x!\n",
      "predictions are made for valid_x!\n",
      "execution time: 89.99116683006287\n",
      "{'execution_time': 89.99116683006287,\n",
      " 'metrics': {'mae_train': 2.9216766756072725,\n",
      "             'mae_valid': 3.129868984794336,\n",
      "             'rmse_train': 5.132622159049003,\n",
      "             'rmse_valid': 5.587041687009739},\n",
      " 'preds': {'train_y_pred': array([ 6.36445  ,  7.3356953, 11.028494 , ...,  5.0465703,  3.0101469,\n",
      "        3.341798 ], dtype=float32),\n",
      "           'valid_y_pred': array([5.8034816e+00, 3.0816758e+00, 2.5771372e-03, ..., 2.9463830e+00,\n",
      "       2.5771372e-03, 2.5771372e-03], dtype=float32)}}\n"
     ]
    }
   ],
   "source": [
    "results, dnn = run_kfold_model(df,dnn,'DNN',final_features,ix,folds=[1,2,3,4,5])"
   ]
  },
  {
   "cell_type": "code",
   "execution_count": 43,
   "metadata": {},
   "outputs": [
    {
     "data": {
      "application/vnd.jupyter.widget-view+json": {
       "model_id": "ea84b84372fa423da3e29b3da7c206ed",
       "version_major": 2,
       "version_minor": 0
      },
      "text/plain": [
       "  0%|          | 0/5 [00:00<?, ?it/s]"
      ]
     },
     "metadata": {},
     "output_type": "display_data"
    },
    {
     "name": "stdout",
     "output_type": "stream",
     "text": [
      "===== DNN - fold 1 =====\n",
      "fitting model...\n",
      "model fit!\n",
      "predictions are made for train_x!\n",
      "predictions are made for valid_x!\n",
      "execution time: 292.3409421443939\n",
      "{'execution_time': 292.3409421443939,\n",
      " 'metrics': {'mae_train': 3.0610958543716404,\n",
      "             'mae_valid': 3.5553999986874407,\n",
      "             'rmse_train': 5.641297701529376,\n",
      "             'rmse_valid': 7.6430603613093595},\n",
      " 'preds': {'train_y_pred': array([[6.4779687e+00],\n",
      "       [8.2612457e+00],\n",
      "       [1.1652329e+01],\n",
      "       ...,\n",
      "       [5.1310177e+00],\n",
      "       [7.0871378e-05],\n",
      "       [6.0325565e+00]], dtype=float32),\n",
      "           'valid_y_pred': array([[2.9486990e+00],\n",
      "       [2.9317961e+00],\n",
      "       [7.0871378e-05],\n",
      "       ...,\n",
      "       [3.2761395e+00],\n",
      "       [7.0871378e-05],\n",
      "       [6.0206070e+00]], dtype=float32)}}\n",
      "===== DNN - fold 2 =====\n",
      "fitting model...\n",
      "model fit!\n",
      "predictions are made for train_x!\n",
      "predictions are made for valid_x!\n",
      "execution time: 241.16722989082336\n",
      "{'execution_time': 241.16722989082336,\n",
      " 'metrics': {'mae_train': 3.03019741725807,\n",
      "             'mae_valid': 3.199028464331422,\n",
      "             'rmse_train': 5.459304289478698,\n",
      "             'rmse_valid': 6.598052632896601},\n",
      " 'preds': {'train_y_pred': array([[ 6.5287266],\n",
      "       [ 8.445915 ],\n",
      "       [17.35101  ],\n",
      "       ...,\n",
      "       [ 5.885734 ],\n",
      "       [ 1.2433376],\n",
      "       [ 5.6824646]], dtype=float32),\n",
      "           'valid_y_pred': array([[ 2.9784205e+00],\n",
      "       [ 3.0149512e+00],\n",
      "       [-4.6543480e-04],\n",
      "       ...,\n",
      "       [ 5.9555798e+00],\n",
      "       [-4.6543480e-04],\n",
      "       [ 5.6128893e+00]], dtype=float32)}}\n",
      "===== DNN - fold 3 =====\n",
      "fitting model...\n",
      "model fit!\n",
      "predictions are made for train_x!\n",
      "predictions are made for valid_x!\n",
      "execution time: 187.71229219436646\n",
      "{'execution_time': 187.71229219436646,\n",
      " 'metrics': {'mae_train': 3.008432778820982,\n",
      "             'mae_valid': 3.0187564026180493,\n",
      "             'rmse_train': 5.3453353704638085,\n",
      "             'rmse_valid': 5.908013163392224},\n",
      " 'preds': {'train_y_pred': array([[ 5.949293 ],\n",
      "       [ 7.665768 ],\n",
      "       [17.25659  ],\n",
      "       ...,\n",
      "       [ 5.99024  ],\n",
      "       [ 3.0920312],\n",
      "       [ 3.5087736]], dtype=float32),\n",
      "           'valid_y_pred': array([[ 2.9366457e+00],\n",
      "       [ 2.9542980e+00],\n",
      "       [-1.1911066e-03],\n",
      "       ...,\n",
      "       [ 6.0015497e+00],\n",
      "       [-1.1911066e-03],\n",
      "       [ 6.2719035e+00]], dtype=float32)}}\n",
      "===== DNN - fold 4 =====\n",
      "fitting model...\n",
      "model fit!\n",
      "predictions are made for train_x!\n",
      "predictions are made for valid_x!\n",
      "execution time: 140.33843612670898\n",
      "{'execution_time': 140.33843612670898,\n",
      " 'metrics': {'mae_train': 3.0327289004548974,\n",
      "             'mae_valid': 3.1121498277584876,\n",
      "             'rmse_train': 5.327336812624823,\n",
      "             'rmse_valid': 5.697384451740642},\n",
      " 'preds': {'train_y_pred': array([[ 5.6470051e+00],\n",
      "       [ 7.2098527e+00],\n",
      "       [ 1.1350415e+01],\n",
      "       ...,\n",
      "       [ 3.1062343e+00],\n",
      "       [-1.6338185e-03],\n",
      "       [ 2.9591949e+00]], dtype=float32),\n",
      "           'valid_y_pred': array([[ 5.1098394e+00],\n",
      "       [ 3.0318041e+00],\n",
      "       [-1.6338185e-03],\n",
      "       ...,\n",
      "       [ 6.2548027e+00],\n",
      "       [ 2.9663417e+00],\n",
      "       [ 4.3144903e+00]], dtype=float32)}}\n",
      "===== DNN - fold 5 =====\n",
      "fitting model...\n",
      "model fit!\n",
      "predictions are made for train_x!\n",
      "predictions are made for valid_x!\n",
      "execution time: 89.857675075531\n",
      "{'execution_time': 89.857675075531,\n",
      " 'metrics': {'mae_train': 2.9895573552306853,\n",
      "             'mae_valid': 3.2212783857598954,\n",
      "             'rmse_train': 5.273726662914256,\n",
      "             'rmse_valid': 5.763033068971952},\n",
      " 'preds': {'train_y_pred': array([[ 5.6683626],\n",
      "       [ 6.6465564],\n",
      "       [15.3934   ],\n",
      "       ...,\n",
      "       [ 3.446881 ],\n",
      "       [ 3.356221 ],\n",
      "       [ 3.2201273]], dtype=float32),\n",
      "           'valid_y_pred': array([[ 5.8768067e+00],\n",
      "       [ 3.0026796e+00],\n",
      "       [-9.3874527e-04],\n",
      "       ...,\n",
      "       [ 3.4311199e+00],\n",
      "       [-9.3874527e-04],\n",
      "       [ 3.4520833e+00]], dtype=float32)}}\n"
     ]
    }
   ],
   "source": [
    "results, dnn = run_kfold_model(df,dnn,'DNN',final_features,ix,folds=[1,2,3,4,5])"
   ]
  },
  {
   "cell_type": "code",
   "execution_count": 103,
   "metadata": {},
   "outputs": [],
   "source": [
    "cumulative_model_results_dnn[\"3-layer-128-64-32-001lr-adam-100epoch-real\"] = {'results':results,'model':dnn}"
   ]
  },
  {
   "cell_type": "code",
   "execution_count": 104,
   "metadata": {},
   "outputs": [],
   "source": [
    "dnn_metrics = get_metrics_from_results(cumulative_model_results_dnn)"
   ]
  },
  {
   "cell_type": "code",
   "execution_count": 28,
   "metadata": {},
   "outputs": [
    {
     "data": {
      "text/plain": [
       "7.0436302"
      ]
     },
     "execution_count": 28,
     "metadata": {},
     "output_type": "execute_result"
    }
   ],
   "source": [
    "np.mean([7.239345,  7.070802,  6.858544,  6.915110,  7.134350])\n"
   ]
  },
  {
   "cell_type": "code",
   "execution_count": 29,
   "metadata": {},
   "outputs": [
    {
     "data": {
      "text/plain": [
       "7.333954800000001"
      ]
     },
     "execution_count": 29,
     "metadata": {},
     "output_type": "execute_result"
    }
   ],
   "source": [
    "np.mean([7.226341,  7.229401,  7.327400, 7.410854, 7.475778])"
   ]
  },
  {
   "cell_type": "code",
   "execution_count": 59,
   "metadata": {},
   "outputs": [
    {
     "data": {
      "text/plain": [
       "{'3-layer-10-dropout-both-layers-001lr-1e-6decay':               fold_1    fold_2    fold_3    fold_4    fold_5\n",
       " rmse_train  7.226341  7.229401  7.327400  7.410854  7.475778\n",
       " mae_train   3.712249  3.753140  3.857687  3.963913  4.080383\n",
       " rmse_valid  7.239345  7.070802  6.858544  6.915110  7.134350\n",
       " mae_valid   3.406501  3.338190  3.297315  3.496091  3.700478,\n",
       " '3-layer-10-dropout-both-layers-001lr-1e-3decay':               fold_1    fold_2    fold_3    fold_4    fold_5\n",
       " rmse_train  7.597490  7.690460  7.869956  8.065140  8.332822\n",
       " mae_train   3.864892  3.954327  4.109841  4.276128  4.494999\n",
       " rmse_valid  7.041046  7.051936  6.926396  7.293318  7.517925\n",
       " mae_valid   3.430408  3.411289  3.364448  3.640809  3.856434}"
      ]
     },
     "execution_count": 59,
     "metadata": {},
     "output_type": "execute_result"
    }
   ],
   "source": [
    "dnn_metrics # 1st one is picked"
   ]
  },
  {
   "cell_type": "code",
   "execution_count": 121,
   "metadata": {},
   "outputs": [
    {
     "data": {
      "text/plain": [
       "{'1-layer':               fold_1    fold_2    fold_3    fold_4    fold_5       avg\n",
       " rmse_train  7.548535  7.570503  7.779212  7.733104  7.898161  7.705903\n",
       " mae_train   3.846633  3.924514  4.064992  4.189988  4.363204  4.077866\n",
       " rmse_valid  7.163109  7.016884  6.932048  7.118979  7.308528  7.107910\n",
       " mae_valid   3.446792  3.419662  3.374304  3.626396  3.835416  3.540514,\n",
       " '2-layer':               fold_1    fold_2    fold_3    fold_4    fold_5       avg\n",
       " rmse_train  7.057325  6.749162  6.705568  6.632269  6.652721  6.759409\n",
       " mae_train   3.616699  3.573135  3.642348  3.637850  3.692294  3.632465\n",
       " rmse_valid  7.073248  6.867192  6.644702  6.711167  6.602711  6.779804\n",
       " mae_valid   3.400076  3.316022  3.289300  3.482573  3.621643  3.421923,\n",
       " '2-layer-30-dropout':               fold_1    fold_2    fold_3    fold_4    fold_5       avg\n",
       " rmse_train  7.152646  7.146064  7.157558  7.345035  7.392471  7.238755\n",
       " mae_train   3.647635  3.695601  3.770521  3.904452  3.994359  3.802513\n",
       " rmse_valid  7.129823  6.964140  6.767688  6.929495  7.053240  6.968877\n",
       " mae_valid   3.389194  3.304390  3.298746  3.491899  3.706484  3.438143,\n",
       " '3-layer-30-dropout-both-layers':               fold_1    fold_2    fold_3    fold_4    fold_5       avg\n",
       " rmse_train  7.202084  7.344041  7.172268  7.612356  7.444531  7.355056\n",
       " mae_train   3.665793  3.758069  3.771411  3.972845  4.016278  3.836879\n",
       " rmse_valid  7.223297  7.168309  6.748103  7.120961  7.130346  7.078203\n",
       " mae_valid   3.389618  3.355659  3.256824  3.522078  3.673413  3.439518,\n",
       " '3-layer-30-dropout-both-layers-01lr':               fold_1    fold_2    fold_3    fold_4    fold_5       avg\n",
       " rmse_train  7.697384  7.429786  7.843328  7.896757  8.184619  7.810375\n",
       " mae_train   4.041172  4.044938  4.228258  4.320448  4.439757  4.214915\n",
       " rmse_valid  7.222504  6.983207  6.853210  7.148851  7.538512  7.149257\n",
       " mae_valid   3.546904  3.556886  3.559954  3.887499  4.063417  3.722932}"
      ]
     },
     "execution_count": 121,
     "metadata": {},
     "output_type": "execute_result"
    }
   ],
   "source": [
    "dnn_metrics"
   ]
  },
  {
   "cell_type": "code",
   "execution_count": 117,
   "metadata": {
    "scrolled": false
   },
   "outputs": [
    {
     "data": {
      "image/png": "[encoded data removed]",
      "text/plain": [
       "<Figure size 432x288 with 1 Axes>"
      ]
     },
     "metadata": {
      "needs_background": "light"
     },
     "output_type": "display_data"
    }
   ],
   "source": [
    "# max_iters = [200,400,600,800,1000]\n",
    "x, y1, y2=[], [], []\n",
    "for key in cumulative_model_results_dnn.keys():\n",
    "    res = dnn_metrics[key]\n",
    "    res['avg'] = res.mean(axis=1)\n",
    "    x.append(key)\n",
    "    y1.append(res.loc['rmse_train'].avg)\n",
    "    y2.append(res.loc['rmse_valid'].avg)\n",
    "    \n",
    "re = pd.DataFrame([x,y1,y2]).T\n",
    "re.columns=['max_iter','rmse_train','rmse_valid']\n",
    "re = re.melt(id_vars=['max_iter'])\n",
    "\n",
    "fig = sns.lineplot(data=re,x='max_iter',y='value',hue='variable')\n",
    "fig.set_xticks(list(cumulative_model_results_dnn.keys()));\n",
    "fig.set_xticklabels(list(cumulative_model_results_dnn.keys()));\n",
    "fig.set_title('Change in RMSE in increasing Estimators (DNN)');"
   ]
  },
  {
   "cell_type": "markdown",
   "metadata": {},
   "source": [
    "## 1 Layer DNN with Normalization Layer (0.001 LR)  # Picked"
   ]
  },
  {
   "cell_type": "code",
   "execution_count": 118,
   "metadata": {},
   "outputs": [
    {
     "data": {
      "text/html": [
       "<div>\n",
       "<style scoped>\n",
       "    .dataframe tbody tr th:only-of-type {\n",
       "        vertical-align: middle;\n",
       "    }\n",
       "\n",
       "    .dataframe tbody tr th {\n",
       "        vertical-align: top;\n",
       "    }\n",
       "\n",
       "    .dataframe thead th {\n",
       "        text-align: right;\n",
       "    }\n",
       "</style>\n",
       "<table border=\"1\" class=\"dataframe\">\n",
       "  <thead>\n",
       "    <tr style=\"text-align: right;\">\n",
       "      <th></th>\n",
       "      <th>fold_1</th>\n",
       "      <th>fold_2</th>\n",
       "      <th>fold_3</th>\n",
       "      <th>fold_4</th>\n",
       "      <th>fold_5</th>\n",
       "      <th>avg</th>\n",
       "    </tr>\n",
       "  </thead>\n",
       "  <tbody>\n",
       "    <tr>\n",
       "      <th>rmse_train</th>\n",
       "      <td>7.548535</td>\n",
       "      <td>7.570503</td>\n",
       "      <td>7.779212</td>\n",
       "      <td>7.733104</td>\n",
       "      <td>7.898161</td>\n",
       "      <td>7.705903</td>\n",
       "    </tr>\n",
       "    <tr>\n",
       "      <th>mae_train</th>\n",
       "      <td>3.846633</td>\n",
       "      <td>3.924514</td>\n",
       "      <td>4.064992</td>\n",
       "      <td>4.189988</td>\n",
       "      <td>4.363204</td>\n",
       "      <td>4.077866</td>\n",
       "    </tr>\n",
       "    <tr>\n",
       "      <th>rmse_valid</th>\n",
       "      <td>7.163109</td>\n",
       "      <td>7.016884</td>\n",
       "      <td>6.932048</td>\n",
       "      <td>7.118979</td>\n",
       "      <td>7.308528</td>\n",
       "      <td>7.107910</td>\n",
       "    </tr>\n",
       "    <tr>\n",
       "      <th>mae_valid</th>\n",
       "      <td>3.446792</td>\n",
       "      <td>3.419662</td>\n",
       "      <td>3.374304</td>\n",
       "      <td>3.626396</td>\n",
       "      <td>3.835416</td>\n",
       "      <td>3.540514</td>\n",
       "    </tr>\n",
       "  </tbody>\n",
       "</table>\n",
       "</div>"
      ],
      "text/plain": [
       "              fold_1    fold_2    fold_3    fold_4    fold_5       avg\n",
       "rmse_train  7.548535  7.570503  7.779212  7.733104  7.898161  7.705903\n",
       "mae_train   3.846633  3.924514  4.064992  4.189988  4.363204  4.077866\n",
       "rmse_valid  7.163109  7.016884  6.932048  7.118979  7.308528  7.107910\n",
       "mae_valid   3.446792  3.419662  3.374304  3.626396  3.835416  3.540514"
      ]
     },
     "execution_count": 118,
     "metadata": {},
     "output_type": "execute_result"
    }
   ],
   "source": [
    "dnn_results = dnn_metrics[\"1-layer\"]\n",
    "dnn_results['avg'] = dnn_results.mean(axis=1)\n",
    "dnn_results"
   ]
  },
  {
   "cell_type": "markdown",
   "metadata": {},
   "source": [
    "## 2 Layers DNN with Normalization Layer (0.001 LR) # Picked"
   ]
  },
  {
   "cell_type": "code",
   "execution_count": 119,
   "metadata": {},
   "outputs": [
    {
     "data": {
      "text/html": [
       "<div>\n",
       "<style scoped>\n",
       "    .dataframe tbody tr th:only-of-type {\n",
       "        vertical-align: middle;\n",
       "    }\n",
       "\n",
       "    .dataframe tbody tr th {\n",
       "        vertical-align: top;\n",
       "    }\n",
       "\n",
       "    .dataframe thead th {\n",
       "        text-align: right;\n",
       "    }\n",
       "</style>\n",
       "<table border=\"1\" class=\"dataframe\">\n",
       "  <thead>\n",
       "    <tr style=\"text-align: right;\">\n",
       "      <th></th>\n",
       "      <th>fold_1</th>\n",
       "      <th>fold_2</th>\n",
       "      <th>fold_3</th>\n",
       "      <th>fold_4</th>\n",
       "      <th>fold_5</th>\n",
       "      <th>avg</th>\n",
       "    </tr>\n",
       "  </thead>\n",
       "  <tbody>\n",
       "    <tr>\n",
       "      <th>rmse_train</th>\n",
       "      <td>7.057325</td>\n",
       "      <td>6.749162</td>\n",
       "      <td>6.705568</td>\n",
       "      <td>6.632269</td>\n",
       "      <td>6.652721</td>\n",
       "      <td>6.759409</td>\n",
       "    </tr>\n",
       "    <tr>\n",
       "      <th>mae_train</th>\n",
       "      <td>3.616699</td>\n",
       "      <td>3.573135</td>\n",
       "      <td>3.642348</td>\n",
       "      <td>3.637850</td>\n",
       "      <td>3.692294</td>\n",
       "      <td>3.632465</td>\n",
       "    </tr>\n",
       "    <tr>\n",
       "      <th>rmse_valid</th>\n",
       "      <td>7.073248</td>\n",
       "      <td>6.867192</td>\n",
       "      <td>6.644702</td>\n",
       "      <td>6.711167</td>\n",
       "      <td>6.602711</td>\n",
       "      <td>6.779804</td>\n",
       "    </tr>\n",
       "    <tr>\n",
       "      <th>mae_valid</th>\n",
       "      <td>3.400076</td>\n",
       "      <td>3.316022</td>\n",
       "      <td>3.289300</td>\n",
       "      <td>3.482573</td>\n",
       "      <td>3.621643</td>\n",
       "      <td>3.421923</td>\n",
       "    </tr>\n",
       "  </tbody>\n",
       "</table>\n",
       "</div>"
      ],
      "text/plain": [
       "              fold_1    fold_2    fold_3    fold_4    fold_5       avg\n",
       "rmse_train  7.057325  6.749162  6.705568  6.632269  6.652721  6.759409\n",
       "mae_train   3.616699  3.573135  3.642348  3.637850  3.692294  3.632465\n",
       "rmse_valid  7.073248  6.867192  6.644702  6.711167  6.602711  6.779804\n",
       "mae_valid   3.400076  3.316022  3.289300  3.482573  3.621643  3.421923"
      ]
     },
     "execution_count": 119,
     "metadata": {},
     "output_type": "execute_result"
    }
   ],
   "source": [
    "dnn_results = dnn_metrics[\"2-layer\"]\n",
    "dnn_results['avg'] = dnn_results.mean(axis=1)\n",
    "dnn_results"
   ]
  },
  {
   "cell_type": "markdown",
   "metadata": {},
   "source": [
    "## 2 Layers DNN with Normalization Layer and 30% Dropout Layer (0.001 LR) "
   ]
  },
  {
   "cell_type": "code",
   "execution_count": 124,
   "metadata": {},
   "outputs": [
    {
     "data": {
      "text/html": [
       "<div>\n",
       "<style scoped>\n",
       "    .dataframe tbody tr th:only-of-type {\n",
       "        vertical-align: middle;\n",
       "    }\n",
       "\n",
       "    .dataframe tbody tr th {\n",
       "        vertical-align: top;\n",
       "    }\n",
       "\n",
       "    .dataframe thead th {\n",
       "        text-align: right;\n",
       "    }\n",
       "</style>\n",
       "<table border=\"1\" class=\"dataframe\">\n",
       "  <thead>\n",
       "    <tr style=\"text-align: right;\">\n",
       "      <th></th>\n",
       "      <th>fold_1</th>\n",
       "      <th>fold_2</th>\n",
       "      <th>fold_3</th>\n",
       "      <th>fold_4</th>\n",
       "      <th>fold_5</th>\n",
       "      <th>avg</th>\n",
       "    </tr>\n",
       "  </thead>\n",
       "  <tbody>\n",
       "    <tr>\n",
       "      <th>rmse_train</th>\n",
       "      <td>7.152646</td>\n",
       "      <td>7.146064</td>\n",
       "      <td>7.157558</td>\n",
       "      <td>7.345035</td>\n",
       "      <td>7.392471</td>\n",
       "      <td>7.238755</td>\n",
       "    </tr>\n",
       "    <tr>\n",
       "      <th>mae_train</th>\n",
       "      <td>3.647635</td>\n",
       "      <td>3.695601</td>\n",
       "      <td>3.770521</td>\n",
       "      <td>3.904452</td>\n",
       "      <td>3.994359</td>\n",
       "      <td>3.802513</td>\n",
       "    </tr>\n",
       "    <tr>\n",
       "      <th>rmse_valid</th>\n",
       "      <td>7.129823</td>\n",
       "      <td>6.964140</td>\n",
       "      <td>6.767688</td>\n",
       "      <td>6.929495</td>\n",
       "      <td>7.053240</td>\n",
       "      <td>6.968877</td>\n",
       "    </tr>\n",
       "    <tr>\n",
       "      <th>mae_valid</th>\n",
       "      <td>3.389194</td>\n",
       "      <td>3.304390</td>\n",
       "      <td>3.298746</td>\n",
       "      <td>3.491899</td>\n",
       "      <td>3.706484</td>\n",
       "      <td>3.438143</td>\n",
       "    </tr>\n",
       "  </tbody>\n",
       "</table>\n",
       "</div>"
      ],
      "text/plain": [
       "              fold_1    fold_2    fold_3    fold_4    fold_5       avg\n",
       "rmse_train  7.152646  7.146064  7.157558  7.345035  7.392471  7.238755\n",
       "mae_train   3.647635  3.695601  3.770521  3.904452  3.994359  3.802513\n",
       "rmse_valid  7.129823  6.964140  6.767688  6.929495  7.053240  6.968877\n",
       "mae_valid   3.389194  3.304390  3.298746  3.491899  3.706484  3.438143"
      ]
     },
     "execution_count": 124,
     "metadata": {},
     "output_type": "execute_result"
    }
   ],
   "source": [
    "dnn_results = dnn_metrics[\"2-layer-30-dropout\"]\n",
    "dnn_results['avg'] = dnn_results.mean(axis=1)\n",
    "dnn_results"
   ]
  },
  {
   "cell_type": "markdown",
   "metadata": {},
   "source": [
    "## 3 Layers DNN with Normalization Layer and 2, 30% Dropout Layers (0.001 LR)  # Picked"
   ]
  },
  {
   "cell_type": "code",
   "execution_count": 125,
   "metadata": {},
   "outputs": [
    {
     "data": {
      "text/html": [
       "<div>\n",
       "<style scoped>\n",
       "    .dataframe tbody tr th:only-of-type {\n",
       "        vertical-align: middle;\n",
       "    }\n",
       "\n",
       "    .dataframe tbody tr th {\n",
       "        vertical-align: top;\n",
       "    }\n",
       "\n",
       "    .dataframe thead th {\n",
       "        text-align: right;\n",
       "    }\n",
       "</style>\n",
       "<table border=\"1\" class=\"dataframe\">\n",
       "  <thead>\n",
       "    <tr style=\"text-align: right;\">\n",
       "      <th></th>\n",
       "      <th>fold_1</th>\n",
       "      <th>fold_2</th>\n",
       "      <th>fold_3</th>\n",
       "      <th>fold_4</th>\n",
       "      <th>fold_5</th>\n",
       "      <th>avg</th>\n",
       "    </tr>\n",
       "  </thead>\n",
       "  <tbody>\n",
       "    <tr>\n",
       "      <th>rmse_train</th>\n",
       "      <td>7.202084</td>\n",
       "      <td>7.344041</td>\n",
       "      <td>7.172268</td>\n",
       "      <td>7.612356</td>\n",
       "      <td>7.444531</td>\n",
       "      <td>7.355056</td>\n",
       "    </tr>\n",
       "    <tr>\n",
       "      <th>mae_train</th>\n",
       "      <td>3.665793</td>\n",
       "      <td>3.758069</td>\n",
       "      <td>3.771411</td>\n",
       "      <td>3.972845</td>\n",
       "      <td>4.016278</td>\n",
       "      <td>3.836879</td>\n",
       "    </tr>\n",
       "    <tr>\n",
       "      <th>rmse_valid</th>\n",
       "      <td>7.223297</td>\n",
       "      <td>7.168309</td>\n",
       "      <td>6.748103</td>\n",
       "      <td>7.120961</td>\n",
       "      <td>7.130346</td>\n",
       "      <td>7.078203</td>\n",
       "    </tr>\n",
       "    <tr>\n",
       "      <th>mae_valid</th>\n",
       "      <td>3.389618</td>\n",
       "      <td>3.355659</td>\n",
       "      <td>3.256824</td>\n",
       "      <td>3.522078</td>\n",
       "      <td>3.673413</td>\n",
       "      <td>3.439518</td>\n",
       "    </tr>\n",
       "  </tbody>\n",
       "</table>\n",
       "</div>"
      ],
      "text/plain": [
       "              fold_1    fold_2    fold_3    fold_4    fold_5       avg\n",
       "rmse_train  7.202084  7.344041  7.172268  7.612356  7.444531  7.355056\n",
       "mae_train   3.665793  3.758069  3.771411  3.972845  4.016278  3.836879\n",
       "rmse_valid  7.223297  7.168309  6.748103  7.120961  7.130346  7.078203\n",
       "mae_valid   3.389618  3.355659  3.256824  3.522078  3.673413  3.439518"
      ]
     },
     "execution_count": 125,
     "metadata": {},
     "output_type": "execute_result"
    }
   ],
   "source": [
    "dnn_results = dnn_metrics['3-layer-30-dropout-both-layers']\n",
    "dnn_results['avg'] = dnn_results.mean(axis=1)\n",
    "dnn_results"
   ]
  },
  {
   "cell_type": "markdown",
   "metadata": {},
   "source": [
    "## 3 Layers DNN with Normalization Layer and 2, 30% Dropout Layers (0.01 LR) "
   ]
  },
  {
   "cell_type": "code",
   "execution_count": 126,
   "metadata": {},
   "outputs": [
    {
     "data": {
      "text/html": [
       "<div>\n",
       "<style scoped>\n",
       "    .dataframe tbody tr th:only-of-type {\n",
       "        vertical-align: middle;\n",
       "    }\n",
       "\n",
       "    .dataframe tbody tr th {\n",
       "        vertical-align: top;\n",
       "    }\n",
       "\n",
       "    .dataframe thead th {\n",
       "        text-align: right;\n",
       "    }\n",
       "</style>\n",
       "<table border=\"1\" class=\"dataframe\">\n",
       "  <thead>\n",
       "    <tr style=\"text-align: right;\">\n",
       "      <th></th>\n",
       "      <th>fold_1</th>\n",
       "      <th>fold_2</th>\n",
       "      <th>fold_3</th>\n",
       "      <th>fold_4</th>\n",
       "      <th>fold_5</th>\n",
       "      <th>avg</th>\n",
       "    </tr>\n",
       "  </thead>\n",
       "  <tbody>\n",
       "    <tr>\n",
       "      <th>rmse_train</th>\n",
       "      <td>7.697384</td>\n",
       "      <td>7.429786</td>\n",
       "      <td>7.843328</td>\n",
       "      <td>7.896757</td>\n",
       "      <td>8.184619</td>\n",
       "      <td>7.810375</td>\n",
       "    </tr>\n",
       "    <tr>\n",
       "      <th>mae_train</th>\n",
       "      <td>4.041172</td>\n",
       "      <td>4.044938</td>\n",
       "      <td>4.228258</td>\n",
       "      <td>4.320448</td>\n",
       "      <td>4.439757</td>\n",
       "      <td>4.214915</td>\n",
       "    </tr>\n",
       "    <tr>\n",
       "      <th>rmse_valid</th>\n",
       "      <td>7.222504</td>\n",
       "      <td>6.983207</td>\n",
       "      <td>6.853210</td>\n",
       "      <td>7.148851</td>\n",
       "      <td>7.538512</td>\n",
       "      <td>7.149257</td>\n",
       "    </tr>\n",
       "    <tr>\n",
       "      <th>mae_valid</th>\n",
       "      <td>3.546904</td>\n",
       "      <td>3.556886</td>\n",
       "      <td>3.559954</td>\n",
       "      <td>3.887499</td>\n",
       "      <td>4.063417</td>\n",
       "      <td>3.722932</td>\n",
       "    </tr>\n",
       "  </tbody>\n",
       "</table>\n",
       "</div>"
      ],
      "text/plain": [
       "              fold_1    fold_2    fold_3    fold_4    fold_5       avg\n",
       "rmse_train  7.697384  7.429786  7.843328  7.896757  8.184619  7.810375\n",
       "mae_train   4.041172  4.044938  4.228258  4.320448  4.439757  4.214915\n",
       "rmse_valid  7.222504  6.983207  6.853210  7.148851  7.538512  7.149257\n",
       "mae_valid   3.546904  3.556886  3.559954  3.887499  4.063417  3.722932"
      ]
     },
     "execution_count": 126,
     "metadata": {},
     "output_type": "execute_result"
    }
   ],
   "source": [
    "dnn_results = dnn_metrics['3-layer-30-dropout-both-layers-01lr']\n",
    "dnn_results['avg'] = dnn_results.mean(axis=1)\n",
    "dnn_results"
   ]
  },
  {
   "cell_type": "markdown",
   "metadata": {},
   "source": [
    "## 3 Layers 128-64-32 Adam DNN with Normalization Layer and without Dropout Layers (0.001 LR) - epoch = 40"
   ]
  },
  {
   "cell_type": "code",
   "execution_count": 61,
   "metadata": {},
   "outputs": [
    {
     "data": {
      "text/html": [
       "<div>\n",
       "<style scoped>\n",
       "    .dataframe tbody tr th:only-of-type {\n",
       "        vertical-align: middle;\n",
       "    }\n",
       "\n",
       "    .dataframe tbody tr th {\n",
       "        vertical-align: top;\n",
       "    }\n",
       "\n",
       "    .dataframe thead th {\n",
       "        text-align: right;\n",
       "    }\n",
       "</style>\n",
       "<table border=\"1\" class=\"dataframe\">\n",
       "  <thead>\n",
       "    <tr style=\"text-align: right;\">\n",
       "      <th></th>\n",
       "      <th>fold_1</th>\n",
       "      <th>fold_2</th>\n",
       "      <th>fold_3</th>\n",
       "      <th>fold_4</th>\n",
       "      <th>fold_5</th>\n",
       "      <th>avg</th>\n",
       "    </tr>\n",
       "  </thead>\n",
       "  <tbody>\n",
       "    <tr>\n",
       "      <th>rmse_train</th>\n",
       "      <td>6.851550</td>\n",
       "      <td>6.509348</td>\n",
       "      <td>6.358763</td>\n",
       "      <td>6.196867</td>\n",
       "      <td>6.142361</td>\n",
       "      <td>6.411778</td>\n",
       "    </tr>\n",
       "    <tr>\n",
       "      <th>mae_train</th>\n",
       "      <td>3.527665</td>\n",
       "      <td>3.430017</td>\n",
       "      <td>3.433826</td>\n",
       "      <td>3.423286</td>\n",
       "      <td>3.434286</td>\n",
       "      <td>3.449816</td>\n",
       "    </tr>\n",
       "    <tr>\n",
       "      <th>rmse_valid</th>\n",
       "      <td>7.199547</td>\n",
       "      <td>7.019065</td>\n",
       "      <td>6.498951</td>\n",
       "      <td>6.468315</td>\n",
       "      <td>6.561209</td>\n",
       "      <td>6.749417</td>\n",
       "    </tr>\n",
       "    <tr>\n",
       "      <th>mae_valid</th>\n",
       "      <td>3.422680</td>\n",
       "      <td>3.298017</td>\n",
       "      <td>3.174672</td>\n",
       "      <td>3.337750</td>\n",
       "      <td>3.507932</td>\n",
       "      <td>3.348210</td>\n",
       "    </tr>\n",
       "  </tbody>\n",
       "</table>\n",
       "</div>"
      ],
      "text/plain": [
       "              fold_1    fold_2    fold_3    fold_4    fold_5       avg\n",
       "rmse_train  6.851550  6.509348  6.358763  6.196867  6.142361  6.411778\n",
       "mae_train   3.527665  3.430017  3.433826  3.423286  3.434286  3.449816\n",
       "rmse_valid  7.199547  7.019065  6.498951  6.468315  6.561209  6.749417\n",
       "mae_valid   3.422680  3.298017  3.174672  3.337750  3.507932  3.348210"
      ]
     },
     "execution_count": 61,
     "metadata": {},
     "output_type": "execute_result"
    }
   ],
   "source": [
    "dnn_results = dnn_metrics[\"3-layer-128-64-32-001lr-adam\"]\n",
    "dnn_results['avg'] = dnn_results.mean(axis=1)\n",
    "dnn_results"
   ]
  },
  {
   "cell_type": "markdown",
   "metadata": {},
   "source": [
    "## 3 Layers 128-64-32 Adam DNN with Normalization Layer and without Dropout Layers (0.001 LR) - epoch = 60"
   ]
  },
  {
   "cell_type": "code",
   "execution_count": 70,
   "metadata": {
    "scrolled": true
   },
   "outputs": [
    {
     "data": {
      "text/html": [
       "<div>\n",
       "<style scoped>\n",
       "    .dataframe tbody tr th:only-of-type {\n",
       "        vertical-align: middle;\n",
       "    }\n",
       "\n",
       "    .dataframe tbody tr th {\n",
       "        vertical-align: top;\n",
       "    }\n",
       "\n",
       "    .dataframe thead th {\n",
       "        text-align: right;\n",
       "    }\n",
       "</style>\n",
       "<table border=\"1\" class=\"dataframe\">\n",
       "  <thead>\n",
       "    <tr style=\"text-align: right;\">\n",
       "      <th></th>\n",
       "      <th>fold_1</th>\n",
       "      <th>fold_2</th>\n",
       "      <th>fold_3</th>\n",
       "      <th>fold_4</th>\n",
       "      <th>fold_5</th>\n",
       "      <th>avg</th>\n",
       "    </tr>\n",
       "  </thead>\n",
       "  <tbody>\n",
       "    <tr>\n",
       "      <th>rmse_train</th>\n",
       "      <td>6.696422</td>\n",
       "      <td>6.242470</td>\n",
       "      <td>6.079383</td>\n",
       "      <td>5.942259</td>\n",
       "      <td>5.807177</td>\n",
       "      <td>6.153542</td>\n",
       "    </tr>\n",
       "    <tr>\n",
       "      <th>mae_train</th>\n",
       "      <td>3.457756</td>\n",
       "      <td>3.349368</td>\n",
       "      <td>3.332966</td>\n",
       "      <td>3.315473</td>\n",
       "      <td>3.286109</td>\n",
       "      <td>3.348335</td>\n",
       "    </tr>\n",
       "    <tr>\n",
       "      <th>rmse_valid</th>\n",
       "      <td>7.334213</td>\n",
       "      <td>6.931965</td>\n",
       "      <td>6.474511</td>\n",
       "      <td>6.402473</td>\n",
       "      <td>6.288494</td>\n",
       "      <td>6.686331</td>\n",
       "    </tr>\n",
       "    <tr>\n",
       "      <th>mae_valid</th>\n",
       "      <td>3.455768</td>\n",
       "      <td>3.282385</td>\n",
       "      <td>3.192223</td>\n",
       "      <td>3.289467</td>\n",
       "      <td>3.434700</td>\n",
       "      <td>3.330908</td>\n",
       "    </tr>\n",
       "  </tbody>\n",
       "</table>\n",
       "</div>"
      ],
      "text/plain": [
       "              fold_1    fold_2    fold_3    fold_4    fold_5       avg\n",
       "rmse_train  6.696422  6.242470  6.079383  5.942259  5.807177  6.153542\n",
       "mae_train   3.457756  3.349368  3.332966  3.315473  3.286109  3.348335\n",
       "rmse_valid  7.334213  6.931965  6.474511  6.402473  6.288494  6.686331\n",
       "mae_valid   3.455768  3.282385  3.192223  3.289467  3.434700  3.330908"
      ]
     },
     "execution_count": 70,
     "metadata": {},
     "output_type": "execute_result"
    }
   ],
   "source": [
    "dnn_results = dnn_metrics[\"3-layer-128-64-32-001lr-adam-60epoch\"]\n",
    "dnn_results['avg'] = dnn_results.mean(axis=1)\n",
    "dnn_results"
   ]
  },
  {
   "cell_type": "markdown",
   "metadata": {},
   "source": [
    "## 3 Layers 128-64-32 Adam DNN with Normalization Layer and without Dropout Layers (0.001 LR) - epoch = 80"
   ]
  },
  {
   "cell_type": "code",
   "execution_count": 41,
   "metadata": {},
   "outputs": [
    {
     "data": {
      "text/html": [
       "<div>\n",
       "<style scoped>\n",
       "    .dataframe tbody tr th:only-of-type {\n",
       "        vertical-align: middle;\n",
       "    }\n",
       "\n",
       "    .dataframe tbody tr th {\n",
       "        vertical-align: top;\n",
       "    }\n",
       "\n",
       "    .dataframe thead th {\n",
       "        text-align: right;\n",
       "    }\n",
       "</style>\n",
       "<table border=\"1\" class=\"dataframe\">\n",
       "  <thead>\n",
       "    <tr style=\"text-align: right;\">\n",
       "      <th></th>\n",
       "      <th>fold_1</th>\n",
       "      <th>fold_2</th>\n",
       "      <th>fold_3</th>\n",
       "      <th>fold_4</th>\n",
       "      <th>fold_5</th>\n",
       "      <th>avg</th>\n",
       "    </tr>\n",
       "  </thead>\n",
       "  <tbody>\n",
       "    <tr>\n",
       "      <th>rmse_train</th>\n",
       "      <td>6.451532</td>\n",
       "      <td>6.027818</td>\n",
       "      <td>5.838032</td>\n",
       "      <td>5.722850</td>\n",
       "      <td>5.580009</td>\n",
       "      <td>5.924048</td>\n",
       "    </tr>\n",
       "    <tr>\n",
       "      <th>mae_train</th>\n",
       "      <td>3.379321</td>\n",
       "      <td>3.252734</td>\n",
       "      <td>3.229105</td>\n",
       "      <td>3.212877</td>\n",
       "      <td>3.161109</td>\n",
       "      <td>3.247029</td>\n",
       "    </tr>\n",
       "    <tr>\n",
       "      <th>rmse_valid</th>\n",
       "      <td>7.458313</td>\n",
       "      <td>6.849654</td>\n",
       "      <td>6.367288</td>\n",
       "      <td>6.232669</td>\n",
       "      <td>6.224180</td>\n",
       "      <td>6.626421</td>\n",
       "    </tr>\n",
       "    <tr>\n",
       "      <th>mae_valid</th>\n",
       "      <td>3.485628</td>\n",
       "      <td>3.273367</td>\n",
       "      <td>3.143349</td>\n",
       "      <td>3.287861</td>\n",
       "      <td>3.424148</td>\n",
       "      <td>3.322870</td>\n",
       "    </tr>\n",
       "  </tbody>\n",
       "</table>\n",
       "</div>"
      ],
      "text/plain": [
       "              fold_1    fold_2    fold_3    fold_4    fold_5       avg\n",
       "rmse_train  6.451532  6.027818  5.838032  5.722850  5.580009  5.924048\n",
       "mae_train   3.379321  3.252734  3.229105  3.212877  3.161109  3.247029\n",
       "rmse_valid  7.458313  6.849654  6.367288  6.232669  6.224180  6.626421\n",
       "mae_valid   3.485628  3.273367  3.143349  3.287861  3.424148  3.322870"
      ]
     },
     "execution_count": 41,
     "metadata": {},
     "output_type": "execute_result"
    }
   ],
   "source": [
    "dnn_results = dnn_metrics[\"3-layer-128-64-32-001lr-adam-80epoch\"]\n",
    "dnn_results['avg'] = dnn_results.mean(axis=1)\n",
    "dnn_results"
   ]
  },
  {
   "cell_type": "markdown",
   "metadata": {},
   "source": [
    "## 3 Layers 128-64-32 Adam DNN with Normalization Layer and without Dropout Layers (0.001 LR) - epoch = 100"
   ]
  },
  {
   "cell_type": "code",
   "execution_count": 95,
   "metadata": {},
   "outputs": [
    {
     "data": {
      "text/html": [
       "<div>\n",
       "<style scoped>\n",
       "    .dataframe tbody tr th:only-of-type {\n",
       "        vertical-align: middle;\n",
       "    }\n",
       "\n",
       "    .dataframe tbody tr th {\n",
       "        vertical-align: top;\n",
       "    }\n",
       "\n",
       "    .dataframe thead th {\n",
       "        text-align: right;\n",
       "    }\n",
       "</style>\n",
       "<table border=\"1\" class=\"dataframe\">\n",
       "  <thead>\n",
       "    <tr style=\"text-align: right;\">\n",
       "      <th></th>\n",
       "      <th>fold_1</th>\n",
       "      <th>fold_2</th>\n",
       "      <th>fold_3</th>\n",
       "      <th>fold_4</th>\n",
       "      <th>fold_5</th>\n",
       "      <th>avg</th>\n",
       "    </tr>\n",
       "  </thead>\n",
       "  <tbody>\n",
       "    <tr>\n",
       "      <th>rmse_train</th>\n",
       "      <td>5.641298</td>\n",
       "      <td>5.459304</td>\n",
       "      <td>5.345335</td>\n",
       "      <td>5.327337</td>\n",
       "      <td>5.273727</td>\n",
       "      <td>5.409400</td>\n",
       "    </tr>\n",
       "    <tr>\n",
       "      <th>mae_train</th>\n",
       "      <td>3.061096</td>\n",
       "      <td>3.030197</td>\n",
       "      <td>3.008433</td>\n",
       "      <td>3.032729</td>\n",
       "      <td>2.989557</td>\n",
       "      <td>3.024402</td>\n",
       "    </tr>\n",
       "    <tr>\n",
       "      <th>rmse_valid</th>\n",
       "      <td>7.643060</td>\n",
       "      <td>6.598053</td>\n",
       "      <td>5.908013</td>\n",
       "      <td>5.697384</td>\n",
       "      <td>5.763033</td>\n",
       "      <td>6.321909</td>\n",
       "    </tr>\n",
       "    <tr>\n",
       "      <th>mae_valid</th>\n",
       "      <td>3.555400</td>\n",
       "      <td>3.199028</td>\n",
       "      <td>3.018756</td>\n",
       "      <td>3.112150</td>\n",
       "      <td>3.221278</td>\n",
       "      <td>3.221323</td>\n",
       "    </tr>\n",
       "  </tbody>\n",
       "</table>\n",
       "</div>"
      ],
      "text/plain": [
       "              fold_1    fold_2    fold_3    fold_4    fold_5       avg\n",
       "rmse_train  5.641298  5.459304  5.345335  5.327337  5.273727  5.409400\n",
       "mae_train   3.061096  3.030197  3.008433  3.032729  2.989557  3.024402\n",
       "rmse_valid  7.643060  6.598053  5.908013  5.697384  5.763033  6.321909\n",
       "mae_valid   3.555400  3.199028  3.018756  3.112150  3.221278  3.221323"
      ]
     },
     "execution_count": 95,
     "metadata": {},
     "output_type": "execute_result"
    }
   ],
   "source": [
    "dnn_results = dnn_metrics[\"3-layer-128-64-32-001lr-adam-100epoch\"]\n",
    "dnn_results['avg'] = dnn_results.mean(axis=1)\n",
    "dnn_results"
   ]
  },
  {
   "cell_type": "markdown",
   "metadata": {},
   "source": [
    "## 3 Layers 128-64-32 Adam DNN with Normalization Layer and without Dropout Layers (0.001 LR) - epoch = 100 real"
   ]
  },
  {
   "cell_type": "code",
   "execution_count": 106,
   "metadata": {},
   "outputs": [
    {
     "data": {
      "text/html": [
       "<div>\n",
       "<style scoped>\n",
       "    .dataframe tbody tr th:only-of-type {\n",
       "        vertical-align: middle;\n",
       "    }\n",
       "\n",
       "    .dataframe tbody tr th {\n",
       "        vertical-align: top;\n",
       "    }\n",
       "\n",
       "    .dataframe thead th {\n",
       "        text-align: right;\n",
       "    }\n",
       "</style>\n",
       "<table border=\"1\" class=\"dataframe\">\n",
       "  <thead>\n",
       "    <tr style=\"text-align: right;\">\n",
       "      <th></th>\n",
       "      <th>fold_1</th>\n",
       "      <th>fold_2</th>\n",
       "      <th>fold_3</th>\n",
       "      <th>fold_4</th>\n",
       "      <th>fold_5</th>\n",
       "      <th>avg</th>\n",
       "    </tr>\n",
       "  </thead>\n",
       "  <tbody>\n",
       "    <tr>\n",
       "      <th>rmse_train</th>\n",
       "      <td>5.392838</td>\n",
       "      <td>5.216586</td>\n",
       "      <td>5.130025</td>\n",
       "      <td>5.165229</td>\n",
       "      <td>5.132622</td>\n",
       "      <td>5.207460</td>\n",
       "    </tr>\n",
       "    <tr>\n",
       "      <th>mae_train</th>\n",
       "      <td>2.961795</td>\n",
       "      <td>2.911706</td>\n",
       "      <td>2.911250</td>\n",
       "      <td>2.924052</td>\n",
       "      <td>2.921677</td>\n",
       "      <td>2.926096</td>\n",
       "    </tr>\n",
       "    <tr>\n",
       "      <th>rmse_valid</th>\n",
       "      <td>8.064904</td>\n",
       "      <td>6.403963</td>\n",
       "      <td>5.727176</td>\n",
       "      <td>5.489627</td>\n",
       "      <td>5.587042</td>\n",
       "      <td>6.254542</td>\n",
       "    </tr>\n",
       "    <tr>\n",
       "      <th>mae_valid</th>\n",
       "      <td>3.658739</td>\n",
       "      <td>3.150694</td>\n",
       "      <td>2.958330</td>\n",
       "      <td>3.038814</td>\n",
       "      <td>3.129869</td>\n",
       "      <td>3.187289</td>\n",
       "    </tr>\n",
       "  </tbody>\n",
       "</table>\n",
       "</div>"
      ],
      "text/plain": [
       "              fold_1    fold_2    fold_3    fold_4    fold_5       avg\n",
       "rmse_train  5.392838  5.216586  5.130025  5.165229  5.132622  5.207460\n",
       "mae_train   2.961795  2.911706  2.911250  2.924052  2.921677  2.926096\n",
       "rmse_valid  8.064904  6.403963  5.727176  5.489627  5.587042  6.254542\n",
       "mae_valid   3.658739  3.150694  2.958330  3.038814  3.129869  3.187289"
      ]
     },
     "execution_count": 106,
     "metadata": {},
     "output_type": "execute_result"
    }
   ],
   "source": [
    "dnn_results = dnn_metrics[\"3-layer-128-64-32-001lr-adam-100epoch-real\"]\n",
    "dnn_results['avg'] = dnn_results.mean(axis=1)\n",
    "dnn_results"
   ]
  },
  {
   "cell_type": "code",
   "execution_count": null,
   "metadata": {},
   "outputs": [],
   "source": []
  }
 ],
 "metadata": {
  "kernelspec": {
   "display_name": "Python 3 (ipykernel)",
   "language": "python",
   "name": "python3"
  },
  "language_info": {
   "codemirror_mode": {
    "name": "ipython",
    "version": 3
   },
   "file_extension": ".py",
   "mimetype": "text/x-python",
   "name": "python",
   "nbconvert_exporter": "python",
   "pygments_lexer": "ipython3",
   "version": "3.8.5"
  }
 },
 "nbformat": 4,
 "nbformat_minor": 4
}
